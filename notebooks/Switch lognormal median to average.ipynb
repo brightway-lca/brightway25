{
 "metadata": {
  "name": "",
  "signature": "sha256:0c618f5fa2ad69b8741a9a4a1a46fceeee020e11c2641e46fb8222c096f5ed12"
 },
 "nbformat": 3,
 "nbformat_minor": 0,
 "worksheets": [
  {
   "cells": [
    {
     "cell_type": "code",
     "collapsed": false,
     "input": [
      "from brightway2 import *\n",
      "from stats_arrays import LognormalUncertainty\n",
      "from time import time\n",
      "import math\n",
      "import numpy as np"
     ],
     "language": "python",
     "metadata": {},
     "outputs": [],
     "prompt_number": 1
    },
    {
     "cell_type": "code",
     "collapsed": false,
     "input": [
      "start = time()"
     ],
     "language": "python",
     "metadata": {},
     "outputs": [],
     "prompt_number": 2
    },
    {
     "cell_type": "code",
     "collapsed": false,
     "input": [
      "method = (u'IPCC 2013', u'climate change', u'GWP 100a')\n",
      "ei_original = Database(\"ecoinvent 2.2\")"
     ],
     "language": "python",
     "metadata": {},
     "outputs": [],
     "prompt_number": 3
    },
    {
     "cell_type": "markdown",
     "metadata": {},
     "source": [
      "Create copy of this database. We will modify the copy."
     ]
    },
    {
     "cell_type": "code",
     "collapsed": false,
     "input": [
      "if \"ecoinvent 2.2 average\" in databases:\n",
      "    del databases[\"ecoinvent 2.2 average\"]\n",
      "\n",
      "db = ei_original.copy(\"ecoinvent 2.2 average\")"
     ],
     "language": "python",
     "metadata": {},
     "outputs": [],
     "prompt_number": 4
    },
    {
     "cell_type": "markdown",
     "metadata": {},
     "source": [
      "Load the data to modify."
     ]
    },
    {
     "cell_type": "code",
     "collapsed": false,
     "input": [
      "data = db.load()"
     ],
     "language": "python",
     "metadata": {},
     "outputs": [],
     "prompt_number": 5
    },
    {
     "cell_type": "markdown",
     "metadata": {},
     "source": [
      "Loop over the datasets and exchanges, replacing the median value with the average where possible.\n",
      "\n",
      "The [lognormal distribution](http://en.wikipedia.org/wiki/Log-normal_distribution) is defined by two parameters, *mu* and *sigma*. In Brightway2, these parameters map to the keys *loc* and *scale* (see the [``stats_arrays`` documentation](http://stats-arrays.readthedocs.org/en/latest/#mapping-parameter-array-columns-to-uncertainty-distributions)).\n",
      "\n",
      "The default value used in ecoinvent is the median, which is:\n",
      "\n",
      "$$ e^{\\mu} $$\n",
      "\n",
      "But we want to know how LCIA results will change if we use the average, which is:\n",
      "\n",
      "$$ e^{\\mu + \\sigma^{2} / 2} $$"
     ]
    },
    {
     "cell_type": "code",
     "collapsed": false,
     "input": [
      "def get_median(exc):\n",
      "    return math.exp(exc[\"loc\"]) * (-1 if exc[\"negative\"] else 1)\n",
      "\n",
      "def get_average(exc):\n",
      "    return math.exp(exc[\"loc\"] + exc[\"scale\"] ** 2 / 2) * (-1 if exc[\"negative\"] else 1)"
     ],
     "language": "python",
     "metadata": {},
     "outputs": [],
     "prompt_number": 6
    },
    {
     "cell_type": "markdown",
     "metadata": {},
     "source": [
      "First, we make sure that the *amount* value really is the median."
     ]
    },
    {
     "cell_type": "code",
     "collapsed": false,
     "input": [
      "for key, ds in data.items():\n",
      "    for exc in ds.get(\"exchanges\", []):\n",
      "        if exc[\"uncertainty type\"] == LognormalUncertainty.id:\n",
      "            assert np.allclose(exc[\"amount\"], get_median(exc))"
     ],
     "language": "python",
     "metadata": {},
     "outputs": [],
     "prompt_number": 7
    },
    {
     "cell_type": "markdown",
     "metadata": {},
     "source": [
      "Switch median values to average:"
     ]
    },
    {
     "cell_type": "code",
     "collapsed": false,
     "input": [
      "for key, ds in data.items():\n",
      "    for exc in ds.get(\"exchanges\", []):\n",
      "        if exc[\"uncertainty type\"] == LognormalUncertainty.id:\n",
      "            exc[\"amount\"] = get_average(exc)"
     ],
     "language": "python",
     "metadata": {},
     "outputs": [],
     "prompt_number": 8
    },
    {
     "cell_type": "markdown",
     "metadata": {},
     "source": [
      "Write the new data to our database."
     ]
    },
    {
     "cell_type": "code",
     "collapsed": false,
     "input": [
      "db.write(data)\n",
      "db.process()"
     ],
     "language": "python",
     "metadata": {},
     "outputs": [],
     "prompt_number": 9
    },
    {
     "cell_type": "markdown",
     "metadata": {},
     "source": [
      "Make sure that the processes are in the same order (to calculate correlation)."
     ]
    },
    {
     "cell_type": "code",
     "collapsed": false,
     "input": [
      "median_keys = sorted(Database(\"ecoinvent 2.2\").load().keys())\n",
      "average_keys = sorted(db.load().keys())"
     ],
     "language": "python",
     "metadata": {},
     "outputs": [],
     "prompt_number": 10
    },
    {
     "cell_type": "code",
     "collapsed": false,
     "input": [
      "for x, y in zip(median_keys, average_keys)[:20]:\n",
      "    print x[1], y[1]"
     ],
     "language": "python",
     "metadata": {},
     "outputs": [
      {
       "output_type": "stream",
       "stream": "stdout",
       "text": [
        "0015f054356293398bca397fe9261b05 0015f054356293398bca397fe9261b05\n",
        "001bc7601e327c14a6d2316fdb739012 001bc7601e327c14a6d2316fdb739012\n",
        "0042a5e68766610f9ff87c8bdcc4527a 0042a5e68766610f9ff87c8bdcc4527a\n",
        "004ee114924dcbc0733e20afa6a54147 004ee114924dcbc0733e20afa6a54147\n",
        "0060ae00d9a29392009b1595722883a9 0060ae00d9a29392009b1595722883a9\n",
        "00623899611a18f8616b6d2d9de7adfb 00623899611a18f8616b6d2d9de7adfb\n",
        "0070b1bfab4db075dac3dc9127bfa99c 0070b1bfab4db075dac3dc9127bfa99c\n",
        "007e45fdca1a46593e78fee91e91e192 007e45fdca1a46593e78fee91e91e192\n",
        "007fb874be8334806a5fcd21f25bf841 007fb874be8334806a5fcd21f25bf841\n",
        "0085e6f833c2ec2f1c315b1614a154ae 0085e6f833c2ec2f1c315b1614a154ae\n",
        "009f24041e6117e7cd0983932f7de0cc 009f24041e6117e7cd0983932f7de0cc\n",
        "00a1a85a022e137e5a458abbf2db9398 00a1a85a022e137e5a458abbf2db9398\n",
        "00c0bb57dcd40ee0720631d3844a6308 00c0bb57dcd40ee0720631d3844a6308\n",
        "00f9ac8683fc60b9d07a3b810fffe201 00f9ac8683fc60b9d07a3b810fffe201\n",
        "01035f063a58fbe473533a5a749bbfd6 01035f063a58fbe473533a5a749bbfd6\n",
        "0108fe5503fe8a71162c9eebb0a05056 0108fe5503fe8a71162c9eebb0a05056\n",
        "01367561559ba5028445757823950466 01367561559ba5028445757823950466\n",
        "0143c05ffb77084c2fd47c20d79d9c95 0143c05ffb77084c2fd47c20d79d9c95\n",
        "015100cffb46ae40fa09e26d1f488e36 015100cffb46ae40fa09e26d1f488e36\n",
        "0174d1df4413285eb3f4b3375a8d376c 0174d1df4413285eb3f4b3375a8d376c\n"
       ]
      }
     ],
     "prompt_number": 11
    },
    {
     "cell_type": "code",
     "collapsed": false,
     "input": [
      "results = np.zeros((len(median_keys), 2))"
     ],
     "language": "python",
     "metadata": {},
     "outputs": [],
     "prompt_number": 12
    },
    {
     "cell_type": "markdown",
     "metadata": {},
     "source": [
      "Calculate LCA all processes in ecoinvent 2.2."
     ]
    },
    {
     "cell_type": "code",
     "collapsed": false,
     "input": [
      "lca = LCA({median_keys[0]: 1}, method)\n",
      "lca.lci(factorize=True)\n",
      "lca.lcia()\n",
      "\n",
      "for index, key in enumerate(median_keys):\n",
      "    lca.redo_lcia({key: 1})\n",
      "    results[index, 0] = lca.score"
     ],
     "language": "python",
     "metadata": {},
     "outputs": [],
     "prompt_number": 13
    },
    {
     "cell_type": "markdown",
     "metadata": {},
     "source": [
      "Calculate LCA all processes in ecoinvent 2.2."
     ]
    },
    {
     "cell_type": "code",
     "collapsed": false,
     "input": [
      "lca = LCA({average_keys[0]: 1}, method)\n",
      "lca.lci(factorize=True)\n",
      "lca.lcia()\n",
      "\n",
      "for index, key in enumerate(average_keys):\n",
      "    lca.redo_lcia({key: 1})\n",
      "    results[index, 1] = lca.score"
     ],
     "language": "python",
     "metadata": {},
     "outputs": [],
     "prompt_number": 14
    },
    {
     "cell_type": "markdown",
     "metadata": {},
     "source": [
      "Exclude zero values."
     ]
    },
    {
     "cell_type": "code",
     "collapsed": false,
     "input": [
      "mask = results[:, 0] == 0\n",
      "results = results[~mask, :]\n",
      "\n",
      "print \"Excluded %s values because LCA score was zero\" % mask.sum()"
     ],
     "language": "python",
     "metadata": {},
     "outputs": [
      {
       "output_type": "stream",
       "stream": "stdout",
       "text": [
        "Excluded 112 values because LCA score was zero\n"
       ]
      }
     ],
     "prompt_number": 15
    },
    {
     "cell_type": "markdown",
     "metadata": {},
     "source": [
      "Want to calculate ratio of LCIA scores."
     ]
    },
    {
     "cell_type": "code",
     "collapsed": false,
     "input": [
      "ratio = results[:, 1] / results[:, 0]"
     ],
     "language": "python",
     "metadata": {},
     "outputs": [],
     "prompt_number": 16
    },
    {
     "cell_type": "code",
     "collapsed": false,
     "input": [
      "np.histogram(ratio)"
     ],
     "language": "python",
     "metadata": {},
     "outputs": [
      {
       "metadata": {},
       "output_type": "pyout",
       "prompt_number": 17,
       "text": [
        "(array([   2,    0,    0,    0,    0,    0,    0,    1, 3969,    3]),\n",
        " array([-90.17952953, -79.30564546, -68.4317614 , -57.55787734,\n",
        "        -46.68399328, -35.81010921, -24.93622515, -14.06234109,\n",
        "         -3.18845703,   7.68542703,  18.5593111 ]))"
       ]
      }
     ],
     "prompt_number": 17
    },
    {
     "cell_type": "markdown",
     "metadata": {},
     "source": [
      "Exclude outliers."
     ]
    },
    {
     "cell_type": "code",
     "collapsed": false,
     "input": [
      "mask_low = ratio < 0.8\n",
      "mask_high = ratio > 1.4\n",
      "print \"Excluding %s values too low and %s values too high\" % (mask_low.sum(), mask_high.sum())\n",
      "ratio_masked = ratio[~mask_low * ~mask_high]"
     ],
     "language": "python",
     "metadata": {},
     "outputs": [
      {
       "output_type": "stream",
       "stream": "stdout",
       "text": [
        "Excluding 37 values too low and 85 values too high\n"
       ]
      }
     ],
     "prompt_number": 18
    },
    {
     "cell_type": "markdown",
     "metadata": {},
     "source": [
      "Get average and median (he he) differences, both for filtered and unfiltered data."
     ]
    },
    {
     "cell_type": "code",
     "collapsed": false,
     "input": [
      "print \"Unfiltered data:\", np.average(ratio),        np.median(ratio)\n",
      "print \"Filtered data:\",   np.average(ratio_masked), np.median(ratio_masked)"
     ],
     "language": "python",
     "metadata": {},
     "outputs": [
      {
       "output_type": "stream",
       "stream": "stdout",
       "text": [
        "Unfiltered data: 1.04492640659 1.05317671682\n",
        "Filtered data: 1.07148015049 1.05236198161\n"
       ]
      }
     ],
     "prompt_number": 19
    },
    {
     "cell_type": "code",
     "collapsed": false,
     "input": [
      "%matplotlib inline"
     ],
     "language": "python",
     "metadata": {},
     "outputs": [],
     "prompt_number": 20
    },
    {
     "cell_type": "code",
     "collapsed": false,
     "input": [
      "import matplotlib.pyplot as plt\n",
      "import seaborn as sns\n",
      "from scipy.stats import gaussian_kde"
     ],
     "language": "python",
     "metadata": {},
     "outputs": [],
     "prompt_number": 21
    },
    {
     "cell_type": "code",
     "collapsed": false,
     "input": [
      "kde = gaussian_kde(ratio_masked)"
     ],
     "language": "python",
     "metadata": {},
     "outputs": [],
     "prompt_number": 22
    },
    {
     "cell_type": "code",
     "collapsed": false,
     "input": [
      "d = sns.distplot(ratio_masked, kde=0)\n",
      "plt.xlim(0.8, 1.4)\n",
      "\n",
      "xs = np.linspace(0.8, 1.4, 500)\n",
      "plt.plot(\n",
      "    xs, \n",
      "    kde.evaluate(xs), \n",
      "    lw=3, \n",
      "    color=(0.2980392156862745, 0.4470588235294118, 0.6901960784313725), \n",
      "    alpha=0.8\n",
      ")\n",
      "plt.xlabel(\"Ratio of LCIA scores, average / median (2013 IPCC 100-yr)\")\n",
      "plt.ylabel(\"Probability\")\n",
      "\n",
      "plt.savefig(\"ratio-histogram.png\", dpi=600)"
     ],
     "language": "python",
     "metadata": {},
     "outputs": [
      {
       "metadata": {},
       "output_type": "display_data",
       "png": "[encoded data removed]",
       "text": [
        "<matplotlib.figure.Figure at 0x11c495d10>"
       ]
      }
     ],
     "prompt_number": 23
    },
    {
     "cell_type": "code",
     "collapsed": false,
     "input": [
      "sns.jointplot(\n",
      "    np.log(np.abs(results[:, 0])),\n",
      "    np.log(np.abs(results[:, 1])),\n",
      ")"
     ],
     "language": "python",
     "metadata": {},
     "outputs": [
      {
       "metadata": {},
       "output_type": "pyout",
       "prompt_number": 24,
       "text": [
        "<seaborn.axisgrid.JointGrid at 0x11c59b3d0>"
       ]
      },
      {
       "metadata": {},
       "output_type": "display_data",
       "png": "[encoded data removed]",
       "text": [
        "<matplotlib.figure.Figure at 0x11c59b410>"
       ]
      }
     ],
     "prompt_number": 24
    },
    {
     "cell_type": "code",
     "collapsed": false,
     "input": [
      "print \"Elapsed calculation time:\", time() - start"
     ],
     "language": "python",
     "metadata": {},
     "outputs": [
      {
       "output_type": "stream",
       "stream": "stdout",
       "text": [
        "Elapsed calculation time: 72.3986759186\n"
       ]
      }
     ],
     "prompt_number": 25
    }
   ],
   "metadata": {}
  }
 ]
}