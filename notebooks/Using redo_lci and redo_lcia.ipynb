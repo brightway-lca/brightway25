{
 "cells": [
  {
   "cell_type": "markdown",
   "metadata": {},
   "source": [
    "# Using `redo_lci`\n",
    "\n",
    "Constructing an LCA object can take a while - it needs the following steps:\n",
    "\n",
    "1. Resolve the dependency chain for the functional unit to determine which databases to load\n",
    "1. Load the necessary processed arrays into memory\n",
    "1. Index the arrays to the matrix row and column coordinates\n",
    "1. LU factorize the technosphere matrix\n",
    "1. Solve the specific functional unit linear algebra problem\n",
    "1. Multiply the inventory matrix by the biosphere and (maybe) characterization matrices\n",
    "\n",
    "If we want to do an LCA of another functional unit with the same databases, we can skip steps 1-4 and save a bunch of time. Let's see how much:"
   ]
  },
  {
   "cell_type": "code",
   "execution_count": 1,
   "metadata": {},
   "outputs": [],
   "source": [
    "import brightway2 as bw"
   ]
  },
  {
   "cell_type": "code",
   "execution_count": 2,
   "metadata": {},
   "outputs": [],
   "source": [
    "activities = [obj for obj, _ in zip(bw.Database(\"ecoinvent 3.6 cutoff\"), range(100))]"
   ]
  },
  {
   "cell_type": "markdown",
   "metadata": {},
   "source": [
    "## Naive approach"
   ]
  },
  {
   "cell_type": "code",
   "execution_count": 3,
   "metadata": {},
   "outputs": [],
   "source": [
    "def create_object_each_time():\n",
    "    for act in activities:\n",
    "        lca = bw.LCA({act: 1})\n",
    "        lca.lci()"
   ]
  },
  {
   "cell_type": "code",
   "execution_count": 4,
   "metadata": {},
   "outputs": [
    {
     "name": "stdout",
     "output_type": "stream",
     "text": [
      "20 s ± 573 ms per loop (mean ± std. dev. of 7 runs, 1 loop each)\n"
     ]
    }
   ],
   "source": [
    "%timeit create_object_each_time()"
   ]
  },
  {
   "cell_type": "markdown",
   "metadata": {},
   "source": [
    "## Using `redo_lci`\n",
    "\n",
    "`redo_lci` takes one argument: The new functional unit, in the same way as the LCA object creation does."
   ]
  },
  {
   "cell_type": "code",
   "execution_count": 5,
   "metadata": {},
   "outputs": [],
   "source": [
    "def reuse_LCA_object():\n",
    "    lca = bw.LCA({activities[0]: 1})\n",
    "    lca.lci()\n",
    "    \n",
    "    for act in activities:\n",
    "        lca.redo_lci({act: 1})"
   ]
  },
  {
   "cell_type": "code",
   "execution_count": 6,
   "metadata": {},
   "outputs": [
    {
     "name": "stdout",
     "output_type": "stream",
     "text": [
      "1.5 s ± 88.5 ms per loop (mean ± std. dev. of 7 runs, 1 loop each)\n"
     ]
    }
   ],
   "source": [
    "%timeit reuse_LCA_object()"
   ]
  },
  {
   "cell_type": "markdown",
   "metadata": {},
   "source": [
    "Almost 20 times faster!"
   ]
  },
  {
   "cell_type": "markdown",
   "metadata": {},
   "source": [
    "# Using `redo_lcia`\n",
    "\n",
    "If you are doing LCIA, the `redo_lci` will only recalculate the *inventory*, not the *characterized_inventory*. Sometimes this is desirable; however, if you want the full calculation redone, use `redo_lcia`. Note that `redo_lcia` takes the same input argument as `redo_lci`."
   ]
  },
  {
   "cell_type": "code",
   "execution_count": 7,
   "metadata": {},
   "outputs": [],
   "source": [
    "def reuse_LCA_object_with_lcia():\n",
    "    lca = bw.LCA({activities[0]: 1}, method=bw.methods.random())\n",
    "    lca.lci()\n",
    "    lca.lcia()\n",
    "    \n",
    "    for act in activities[:20]:\n",
    "        lca.redo_lcia({act: 1})\n",
    "        print(lca.score)"
   ]
  },
  {
   "cell_type": "code",
   "execution_count": 8,
   "metadata": {},
   "outputs": [
    {
     "name": "stdout",
     "output_type": "stream",
     "text": [
      "3.0679529279153365e-05\n",
      "1848.9036702689527\n",
      "7.02603568874659e-07\n",
      "3.918320009978089e-06\n",
      "1.4327374994506628e-05\n",
      "2.3350554390697607e-05\n",
      "9.649130996149661e-08\n",
      "1.6630029592881153e-05\n",
      "0.00030497131499664576\n",
      "0.5315208796902207\n",
      "0.0\n",
      "0.00018560085871578282\n",
      "2.073410820648018e-06\n",
      "0.0007577243235769673\n",
      "0.8074576181017625\n",
      "2.4631912611964484e-07\n",
      "0.000167420139124996\n",
      "-8.97699011348838e-06\n",
      "-4.331149473802764e-06\n",
      "420.45922051348424\n"
     ]
    }
   ],
   "source": [
    "reuse_LCA_object_with_lcia()"
   ]
  },
  {
   "cell_type": "markdown",
   "metadata": {},
   "source": [
    "# Multiple LCIA methods\n",
    "\n",
    "You can also save some time if you have multiple impact categories by only building each characterization matrix once. The time savings here are not as dramatic, but can build up if you are doing a lot of calculations.\n",
    "\n",
    "The key is to build each characterization matrix once, and store a copy of it in a list.\n",
    "\n",
    "To switch LCIA methods, we use the `switch_method` method, which takes a method tuple as its input."
   ]
  },
  {
   "cell_type": "markdown",
   "metadata": {},
   "source": [
    "## A naive approach"
   ]
  },
  {
   "cell_type": "code",
   "execution_count": 9,
   "metadata": {},
   "outputs": [],
   "source": [
    "methods = [bw.methods.random() for _ in range(10)]"
   ]
  },
  {
   "cell_type": "code",
   "execution_count": 10,
   "metadata": {},
   "outputs": [],
   "source": [
    "def create_new_characterization_matrices_each_time():\n",
    "    lca = bw.LCA({activities[0]: 1}, method=bw.methods.random())\n",
    "    lca.lci()\n",
    "    lca.lcia()\n",
    "    \n",
    "    for act in activities:\n",
    "        lca.redo_lci({act: 1})\n",
    "        for method in methods:\n",
    "            lca.switch_method(method)\n",
    "            score = (lca.characterization_matrix * lca.inventory).sum()"
   ]
  },
  {
   "cell_type": "code",
   "execution_count": 11,
   "metadata": {},
   "outputs": [
    {
     "name": "stdout",
     "output_type": "stream",
     "text": [
      "4.08 s ± 319 ms per loop (mean ± std. dev. of 7 runs, 1 loop each)\n"
     ]
    }
   ],
   "source": [
    "%timeit create_new_characterization_matrices_each_time()"
   ]
  },
  {
   "cell_type": "markdown",
   "metadata": {},
   "source": [
    "## Only create the characterization matrices once"
   ]
  },
  {
   "cell_type": "code",
   "execution_count": 12,
   "metadata": {},
   "outputs": [],
   "source": [
    "def reuse_characterization_matrices():\n",
    "    lca = bw.LCA({activities[0]: 1}, method=bw.methods.random())\n",
    "    lca.lci()\n",
    "    lca.lcia()\n",
    "    \n",
    "    methods_list = []\n",
    "    for method in methods:\n",
    "        lca.switch_method(method)\n",
    "        methods_list.append(lca.characterization_matrix.copy())\n",
    "    \n",
    "    for act in activities:\n",
    "        lca.redo_lci({act: 1})\n",
    "        for matrix in methods_list:\n",
    "            score = (matrix * lca.inventory).sum()"
   ]
  },
  {
   "cell_type": "code",
   "execution_count": 13,
   "metadata": {},
   "outputs": [
    {
     "name": "stdout",
     "output_type": "stream",
     "text": [
      "2.18 s ± 150 ms per loop (mean ± std. dev. of 7 runs, 1 loop each)\n"
     ]
    }
   ],
   "source": [
    "%timeit reuse_characterization_matrices()"
   ]
  },
  {
   "cell_type": "markdown",
   "metadata": {},
   "source": [
    "Twice as fast, with almost no extra effort :)"
   ]
  }
 ],
 "metadata": {
  "kernelspec": {
   "display_name": "Python 3",
   "language": "python",
   "name": "python3"
  },
  "language_info": {
   "codemirror_mode": {
    "name": "ipython",
    "version": 3
   },
   "file_extension": ".py",
   "mimetype": "text/x-python",
   "name": "python",
   "nbconvert_exporter": "python",
   "pygments_lexer": "ipython3",
   "version": "3.7.3"
  },
  "toc": {
   "colors": {
    "hover_highlight": "#DAA520",
    "running_highlight": "#FF0000",
    "selected_highlight": "#FFD700"
   },
   "moveMenuLeft": true,
   "nav_menu": {
    "height": "160.217px",
    "width": "252px"
   },
   "navigate_menu": true,
   "number_sections": true,
   "sideBar": true,
   "threshold": 4,
   "toc_cell": false,
   "toc_section_display": "block",
   "toc_window_display": false
  }
 },
 "nbformat": 4,
 "nbformat_minor": 2
}
