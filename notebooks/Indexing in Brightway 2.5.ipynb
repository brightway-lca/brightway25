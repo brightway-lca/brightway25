{
 "cells": [
  {
   "cell_type": "markdown",
   "id": "3fd53ba2",
   "metadata": {},
   "source": [
    "# Indexing in Brightway 2.5\n",
    "\n",
    "Brightway 2.5 keeps backwards compatibility for most things, but starts a shift in emphasis from the use of activity keys (e.g. `(\"some database\", \"some string\")`) to integer IDs.\n",
    "\n",
    "In Brightway 2, the processed data arrays (the Numpy arrays stored as files), each activity, product, biosphere flow, and location need to be associated with a unique integer ID, as the associated columns in the Numpy arrays have integer data types. This stays the same in 2.5, but the *origin* of the integer IDs changes for activities, products, and biosphere flows.\n",
    "\n",
    "Previously, these integer IDs were stored in a separate dictionary, the `mapping` dictionary. As the number of activities, etc., grew larger, keeping such a dictionary in memory, and synced to a serialized form on disk anytime there were changes, started to become unwiedy. Moreover, *we were already storing* a unique integer ID for activities, etc., as the primary key in our database. We could make life much easier by just using those database values, so that is what 2.5 does.\n",
    "\n",
    "Locations were stored in a similar file, called `geomapping`, and we use the same system in 2.5. Locations will get a separate database table in Brightway 3."
   ]
  },
  {
   "cell_type": "markdown",
   "id": "2d4c51f2",
   "metadata": {},
   "source": [
    "## Backwards compatibility\n",
    "\n",
    "All the methods you know and ... love? still work fine."
   ]
  },
  {
   "cell_type": "code",
   "execution_count": 1,
   "id": "9db71e07",
   "metadata": {},
   "outputs": [],
   "source": [
    "import bw2data as bd"
   ]
  },
  {
   "cell_type": "code",
   "execution_count": 2,
   "id": "1758f33e",
   "metadata": {},
   "outputs": [],
   "source": [
    "bd.projects.set_current(\"ecoinvent 3.7.1\")"
   ]
  },
  {
   "cell_type": "code",
   "execution_count": 3,
   "id": "9f0e91fa",
   "metadata": {},
   "outputs": [],
   "source": [
    "something = bd.Database(\"ecoinvent 3.7.1\").random()"
   ]
  },
  {
   "cell_type": "code",
   "execution_count": 4,
   "id": "bb89eb15",
   "metadata": {},
   "outputs": [
    {
     "data": {
      "text/plain": [
       "('ecoinvent 3.7.1', 'dc864e0dbc39c4e57e892d3a950542d9')"
      ]
     },
     "execution_count": 4,
     "metadata": {},
     "output_type": "execute_result"
    }
   ],
   "source": [
    "something.key"
   ]
  },
  {
   "cell_type": "code",
   "execution_count": 5,
   "id": "59f5eae9",
   "metadata": {},
   "outputs": [
    {
     "data": {
      "text/plain": [
       "'dc864e0dbc39c4e57e892d3a950542d9'"
      ]
     },
     "execution_count": 5,
     "metadata": {},
     "output_type": "execute_result"
    }
   ],
   "source": [
    "something['code']"
   ]
  },
  {
   "cell_type": "markdown",
   "id": "c89b5746",
   "metadata": {},
   "source": [
    "However, we also now have the `.id` attribute:"
   ]
  },
  {
   "cell_type": "code",
   "execution_count": 6,
   "id": "d7c23432",
   "metadata": {},
   "outputs": [
    {
     "data": {
      "text/plain": [
       "11196"
      ]
     },
     "execution_count": 6,
     "metadata": {},
     "output_type": "execute_result"
    }
   ],
   "source": [
    "something.id"
   ]
  },
  {
   "cell_type": "markdown",
   "id": "6ce72da0",
   "metadata": {},
   "source": [
    "And we can use this ID in `get_activity`:"
   ]
  },
  {
   "cell_type": "code",
   "execution_count": 7,
   "id": "8aef4d9e",
   "metadata": {},
   "outputs": [
    {
     "data": {
      "text/plain": [
       "True"
      ]
     },
     "execution_count": 7,
     "metadata": {},
     "output_type": "execute_result"
    }
   ],
   "source": [
    "bd.get_activity(something.id) == something"
   ]
  },
  {
   "cell_type": "code",
   "execution_count": 8,
   "id": "0ab485a4",
   "metadata": {},
   "outputs": [
    {
     "data": {
      "text/plain": [
       "True"
      ]
     },
     "execution_count": 8,
     "metadata": {},
     "output_type": "execute_result"
    }
   ],
   "source": [
    "bd.Database(\"ecoinvent 3.7.1\").get(something.id) == something"
   ]
  },
  {
   "cell_type": "markdown",
   "id": "0a3b1fd1",
   "metadata": {},
   "source": [
    "We also now have a `get_id` function, and this will be the preferred form in the future.\n",
    "\n",
    "Normal `Activity` objects already have the `.id` attribute, but `get_id` also takes activity keys."
   ]
  },
  {
   "cell_type": "code",
   "execution_count": 9,
   "id": "490b8e38",
   "metadata": {},
   "outputs": [
    {
     "data": {
      "text/plain": [
       "11196"
      ]
     },
     "execution_count": 9,
     "metadata": {},
     "output_type": "execute_result"
    }
   ],
   "source": [
    "bd.get_id(something)"
   ]
  },
  {
   "cell_type": "code",
   "execution_count": 10,
   "id": "7455f8e0",
   "metadata": {},
   "outputs": [
    {
     "data": {
      "text/plain": [
       "11196"
      ]
     },
     "execution_count": 10,
     "metadata": {},
     "output_type": "execute_result"
    }
   ],
   "source": [
    "bd.get_id(something.key)"
   ]
  },
  {
   "cell_type": "markdown",
   "id": "03cb0117",
   "metadata": {},
   "source": [
    "The `mapping` object still exists, but it is only a shim for `get_id`."
   ]
  },
  {
   "cell_type": "code",
   "execution_count": 11,
   "id": "3d28bfc2",
   "metadata": {},
   "outputs": [
    {
     "data": {
      "text/plain": [
       "11196"
      ]
     },
     "execution_count": 11,
     "metadata": {},
     "output_type": "execute_result"
    }
   ],
   "source": [
    "bd.mapping[something.key]"
   ]
  },
  {
   "cell_type": "code",
   "execution_count": 12,
   "id": "23b3c319",
   "metadata": {},
   "outputs": [
    {
     "data": {
      "text/plain": [
       "'Obsolete mapping dictionary.'"
      ]
     },
     "execution_count": 12,
     "metadata": {},
     "output_type": "execute_result"
    }
   ],
   "source": [
    "str(bd.mapping)"
   ]
  },
  {
   "cell_type": "markdown",
   "id": "c3217fc8",
   "metadata": {},
   "source": [
    "## Indexing matrices in `LCA` objects\n",
    "\n",
    "`LCA` objects need a dictionary that maps matrix row and column indices to the indentifiers for activities, etc. In Brightway 2, these mappings were `activity_dict`, `product_dict`, and `biosphere_dict`. In 2.5, we create on instance of a [DictionaryManager](https://github.com/brightway-lca/brightway2-calc/blob/master/bw2calc/dictionary_manager.py), which can have many `ReversibleRemappableDictionary` objects. As some LCA objects can have *many* mapping dictionaries, I considered it cleaner to put everything together in one managing object. Moreover, we can make things a bit more efficient by *only* building the parts of the dictionaries on demand. In fact, in normal calculations we don't need the dictionary at all, as we use a different algorithm with Numpy arrays to map values when constructing the matrices themselves.\n",
    "\n",
    "We can get behaviour compatible with Brightway2 by calling the method `.remap_inventory()` after the LCI:"
   ]
  },
  {
   "cell_type": "code",
   "execution_count": 13,
   "id": "5c08ba35",
   "metadata": {},
   "outputs": [],
   "source": [
    "import bw2calc as bc"
   ]
  },
  {
   "cell_type": "code",
   "execution_count": 14,
   "id": "c28711f0",
   "metadata": {},
   "outputs": [],
   "source": [
    "lca = bc.LCA({something: 1})"
   ]
  },
  {
   "cell_type": "code",
   "execution_count": 15,
   "id": "ccc35b47",
   "metadata": {},
   "outputs": [],
   "source": [
    "lca.lci()"
   ]
  },
  {
   "cell_type": "code",
   "execution_count": 16,
   "id": "2d54eb45",
   "metadata": {},
   "outputs": [],
   "source": [
    "lca.remap_inventory()"
   ]
  },
  {
   "cell_type": "code",
   "execution_count": 17,
   "id": "080d7dbf",
   "metadata": {},
   "outputs": [
    {
     "data": {
      "text/plain": [
       "<bw2calc.dictionary_manager.ReversibleRemappableDictionary at 0x144b42a30>"
      ]
     },
     "execution_count": 17,
     "metadata": {},
     "output_type": "execute_result"
    }
   ],
   "source": [
    "lca.dicts.activity"
   ]
  },
  {
   "cell_type": "code",
   "execution_count": 18,
   "id": "3ad6e0e2",
   "metadata": {},
   "outputs": [
    {
     "data": {
      "text/plain": [
       "6874"
      ]
     },
     "execution_count": 18,
     "metadata": {},
     "output_type": "execute_result"
    }
   ],
   "source": [
    "some_int = lca.dicts.activity[something.key]\n",
    "some_int"
   ]
  },
  {
   "cell_type": "markdown",
   "id": "0f106fd3",
   "metadata": {},
   "source": [
    "Each `ReversibleRemappableDictionary` can be reversed:"
   ]
  },
  {
   "cell_type": "code",
   "execution_count": 19,
   "id": "6e6564b2",
   "metadata": {},
   "outputs": [
    {
     "data": {
      "text/plain": [
       "('ecoinvent 3.7.1', 'dc864e0dbc39c4e57e892d3a950542d9')"
      ]
     },
     "execution_count": 19,
     "metadata": {},
     "output_type": "execute_result"
    }
   ],
   "source": [
    "lca.dicts.activity.reversed[some_int]"
   ]
  },
  {
   "cell_type": "markdown",
   "id": "ec0d699f",
   "metadata": {},
   "source": [
    "Calling `reversed` will create a reversed dictionary, and keep it in memory."
   ]
  },
  {
   "cell_type": "markdown",
   "id": "7392e6db",
   "metadata": {},
   "source": [
    "## Indexing matrices the 2.5 way\n",
    "\n",
    "In 2.5, we can call the convenience function `prepare_lca_inputs` to get more control and save some system resources. Actually, this is what happens anyway when you instantiate `LCA` using the Brightway2 input arguments."
   ]
  },
  {
   "cell_type": "code",
   "execution_count": 20,
   "id": "f8ae4d6d",
   "metadata": {},
   "outputs": [],
   "source": [
    "demand, data_objs, remapping_dicts = bd.prepare_lca_inputs({something: 1})"
   ]
  },
  {
   "cell_type": "code",
   "execution_count": 21,
   "id": "a3824a54",
   "metadata": {},
   "outputs": [],
   "source": [
    "lca2 = bc.LCA(demand=demand, data_objs=data_objs, remapping_dicts=remapping_dicts)"
   ]
  },
  {
   "cell_type": "markdown",
   "id": "1d9c115a",
   "metadata": {},
   "source": [
    "Note that here we need to label in the input keyword arguments explicitly."
   ]
  },
  {
   "cell_type": "code",
   "execution_count": 22,
   "id": "e61b6cc0",
   "metadata": {},
   "outputs": [],
   "source": [
    "lca2.lci()"
   ]
  },
  {
   "cell_type": "code",
   "execution_count": 23,
   "id": "05c8193c",
   "metadata": {},
   "outputs": [
    {
     "data": {
      "text/plain": [
       "True"
      ]
     },
     "execution_count": 23,
     "metadata": {},
     "output_type": "execute_result"
    }
   ],
   "source": [
    "lca2.supply_array.sum() == lca.supply_array.sum()"
   ]
  },
  {
   "cell_type": "markdown",
   "id": "7895ce01",
   "metadata": {},
   "source": [
    "The `remapping_dicts` go from the integer IDs *in the database* to the activity, etc., keys. If we are comfortable just using the database IDs, we can skip the whole remapping step entirely, saving time and memory."
   ]
  },
  {
   "cell_type": "code",
   "execution_count": 25,
   "id": "4c31bc9e",
   "metadata": {},
   "outputs": [],
   "source": [
    "demand, data_objs, _ = bd.prepare_lca_inputs({something: 1}, remapping=False)"
   ]
  },
  {
   "cell_type": "markdown",
   "id": "29707de6",
   "metadata": {},
   "source": [
    "In this world, the `demand` dictionary is just the `.id` of the activity:"
   ]
  },
  {
   "cell_type": "code",
   "execution_count": 35,
   "id": "ccff232a",
   "metadata": {},
   "outputs": [
    {
     "data": {
      "text/plain": [
       "({11196: 1}, {11196: 1})"
      ]
     },
     "execution_count": 35,
     "metadata": {},
     "output_type": "execute_result"
    }
   ],
   "source": [
    "demand, {something.id: 1}"
   ]
  },
  {
   "cell_type": "markdown",
   "id": "ab4e48d7",
   "metadata": {},
   "source": [
    "The `data_objs` are the processed arrays for inventory and impact assessment (not used in this example), prepared in the correct form:"
   ]
  },
  {
   "cell_type": "code",
   "execution_count": 36,
   "id": "59c145d1",
   "metadata": {},
   "outputs": [
    {
     "data": {
      "text/plain": [
       "[ReadZipFS(PosixPath('/Users/cmutel/Library/Application Support/Brightway3/ecoinvent-371.040a8b7bfd29ab08dd0a24a6d8383a3d/processed/biosphere3.5d405d71.zip')),\n",
       " ReadZipFS(PosixPath('/Users/cmutel/Library/Application Support/Brightway3/ecoinvent-371.040a8b7bfd29ab08dd0a24a6d8383a3d/processed/ecoinvent-371.040a8b7b.zip'))]"
      ]
     },
     "execution_count": 36,
     "metadata": {},
     "output_type": "execute_result"
    }
   ],
   "source": [
    "data_objs"
   ]
  },
  {
   "cell_type": "markdown",
   "id": "ffaa598b",
   "metadata": {},
   "source": [
    "You can read more about this data packages in the [bw_processing](https://github.com/brightway-lca/bw_processing) package, and in forthcoming documentary notebooks."
   ]
  },
  {
   "cell_type": "code",
   "execution_count": 26,
   "id": "0b7db69a",
   "metadata": {},
   "outputs": [],
   "source": [
    "lca3 = bc.LCA(demand=demand, data_objs=data_objs)"
   ]
  },
  {
   "cell_type": "markdown",
   "id": "1eb292bc",
   "metadata": {},
   "source": [
    "Note that here we need to label in the input keyword arguments explicitly."
   ]
  },
  {
   "cell_type": "code",
   "execution_count": 27,
   "id": "03c8dbd6",
   "metadata": {},
   "outputs": [],
   "source": [
    "lca3.lci()"
   ]
  },
  {
   "cell_type": "code",
   "execution_count": 28,
   "id": "dccad453",
   "metadata": {},
   "outputs": [
    {
     "data": {
      "text/plain": [
       "True"
      ]
     },
     "execution_count": 28,
     "metadata": {},
     "output_type": "execute_result"
    }
   ],
   "source": [
    "lca3.supply_array.sum() == lca.supply_array.sum()"
   ]
  },
  {
   "cell_type": "markdown",
   "id": "608536d9",
   "metadata": {},
   "source": [
    "Now, we use the ID values in `.dicts.activity`, etc."
   ]
  },
  {
   "cell_type": "code",
   "execution_count": 29,
   "id": "135c43cf",
   "metadata": {},
   "outputs": [
    {
     "data": {
      "text/plain": [
       "6874"
      ]
     },
     "execution_count": 29,
     "metadata": {},
     "output_type": "execute_result"
    }
   ],
   "source": [
    "lca3.dicts.activity[something.id]"
   ]
  },
  {
   "cell_type": "code",
   "execution_count": 30,
   "id": "23058f00",
   "metadata": {},
   "outputs": [
    {
     "data": {
      "text/plain": [
       "6874"
      ]
     },
     "execution_count": 30,
     "metadata": {},
     "output_type": "execute_result"
    }
   ],
   "source": [
    "lca3.dicts.product[something.id]"
   ]
  }
 ],
 "metadata": {
  "kernelspec": {
   "display_name": "Python 3",
   "language": "python",
   "name": "python3"
  },
  "language_info": {
   "codemirror_mode": {
    "name": "ipython",
    "version": 3
   },
   "file_extension": ".py",
   "mimetype": "text/x-python",
   "name": "python",
   "nbconvert_exporter": "python",
   "pygments_lexer": "ipython3",
   "version": "3.8.10"
  }
 },
 "nbformat": 4,
 "nbformat_minor": 5
}
