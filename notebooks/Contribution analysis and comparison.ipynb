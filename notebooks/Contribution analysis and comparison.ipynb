{
 "cells": [
  {
   "cell_type": "markdown",
   "id": "dying-prevention",
   "metadata": {},
   "source": [
    "# Contribution analysis and comparison"
   ]
  },
  {
   "cell_type": "code",
   "execution_count": 1,
   "id": "third-retreat",
   "metadata": {},
   "outputs": [],
   "source": [
    "import bw2data as bd\n",
    "import bw2calc as bc\n",
    "import numpy as np\n",
    "import pandas as pd\n",
    "from os.path import commonprefix\n",
    "import tabulate"
   ]
  },
  {
   "cell_type": "code",
   "execution_count": 2,
   "id": "disturbed-blues",
   "metadata": {},
   "outputs": [],
   "source": [
    "bd.projects.set_current(\"ecoinvent 3.7.1 bw2\")"
   ]
  },
  {
   "cell_type": "markdown",
   "id": "fixed-stranger",
   "metadata": {},
   "source": [
    "## Shallow supply chain graph traversal\n",
    "\n",
    "This function just prints the information on a shallow supply chain graph traversal; you can use the [graph traversal class](https://2.docs.brightway.dev/lca.html#graph-traversal) for a more powerful, though complicated, algorithm."
   ]
  },
  {
   "cell_type": "code",
   "execution_count": 3,
   "id": "asian-restaurant",
   "metadata": {},
   "outputs": [],
   "source": [
    "def print_recursive_calculation(activity, lcia_method, lca_obj=None, total_score=None, amount=1, level=0, max_level=3, cutoff=1e-2):\n",
    "    if lca_obj is None:\n",
    "        lca_obj = bc.LCA({activity: amount}, lcia_method)\n",
    "        lca_obj.lci()\n",
    "        lca_obj.lcia()\n",
    "        total_score = lca_obj.score\n",
    "    elif total_score is None:\n",
    "        raise ValueError\n",
    "    else:\n",
    "        lca_obj.redo_lcia({activity: amount})\n",
    "        if abs(lca_obj.score) <= abs(total_score * cutoff):\n",
    "            return\n",
    "    print(\"{}{:4.3f} ({:06.4f}): {:.70}\".format(\"  \" * level, lca_obj.score / total_score, lca_obj.score, str(activity)))\n",
    "    if level < max_level:\n",
    "        for exc in activity.technosphere():\n",
    "            print_recursive_calculation(\n",
    "                activity=exc.input, \n",
    "                lcia_method=lcia_method, \n",
    "                lca_obj=lca_obj, \n",
    "                total_score=total_score, \n",
    "                amount=amount * exc['amount'], \n",
    "                level=level + 1, \n",
    "                max_level=max_level, \n",
    "                cutoff=cutoff\n",
    "            )        "
   ]
  },
  {
   "cell_type": "markdown",
   "id": "polyphonic-husband",
   "metadata": {},
   "source": [
    "Example application"
   ]
  },
  {
   "cell_type": "code",
   "execution_count": 4,
   "id": "furnished-protection",
   "metadata": {},
   "outputs": [
    {
     "data": {
      "text/plain": [
       "'polyethylene production, low density, granulate' (kilogram, RER, None)"
      ]
     },
     "execution_count": 4,
     "metadata": {},
     "output_type": "execute_result"
    }
   ],
   "source": [
    "act = next(obj for obj in bd.Database(\"ecoinvent 3.7.1\") if obj['name'] == 'polyethylene production, low density, granulate')\n",
    "act"
   ]
  },
  {
   "cell_type": "code",
   "execution_count": 5,
   "id": "spatial-architecture",
   "metadata": {},
   "outputs": [],
   "source": [
    "ipcc = ('IPCC 2013', 'climate change', 'GWP 100a')"
   ]
  },
  {
   "cell_type": "code",
   "execution_count": 6,
   "id": "consolidated-biography",
   "metadata": {},
   "outputs": [
    {
     "name": "stdout",
     "output_type": "stream",
     "text": [
      "1.000 (0.0230): 'polyethylene production, low density, granulate' (kilogram, RER, None\n",
      "  0.196 (0.0045): 'market group for electricity, medium voltage' (kilowatt hour, RER, No\n",
      "    0.195 (0.0045): 'market group for electricity, medium voltage' (kilowatt hour, Europe \n",
      "      0.041 (0.0009): 'market for electricity, medium voltage' (kilowatt hour, DE, None)\n",
      "      0.013 (0.0003): 'market for electricity, medium voltage' (kilowatt hour, ES, None)\n",
      "      0.014 (0.0003): 'market for electricity, medium voltage' (kilowatt hour, GB, None)\n",
      "      0.018 (0.0004): 'market for electricity, medium voltage' (kilowatt hour, IT, None)\n",
      "      0.022 (0.0005): 'market for electricity, medium voltage' (kilowatt hour, PL, None)\n",
      "      0.011 (0.0002): 'market for electricity, medium voltage' (kilowatt hour, UA, None)\n",
      "  0.018 (0.0004): 'market for chemical, organic' (kilogram, GLO, None)\n",
      "    0.018 (0.0004): 'chemical production, organic' (kilogram, GLO, None)\n",
      "  0.731 (0.0168): 'market for ethylene, average' (kilogram, RER, None)\n",
      "    0.731 (0.0168): 'ethylene production, average' (kilogram, RER, None)\n",
      "  0.027 (0.0006): 'chemical factory construction, organics' (unit, RER, None)\n",
      "    0.016 (0.0004): 'chemical factory construction' (kilogram, RER, None)\n"
     ]
    }
   ],
   "source": [
    "print_recursive_calculation(act, ipcc)"
   ]
  },
  {
   "cell_type": "code",
   "execution_count": 7,
   "id": "creative-vocabulary",
   "metadata": {},
   "outputs": [
    {
     "name": "stdout",
     "output_type": "stream",
     "text": [
      "1.000 (0.0230): 'polyethylene production, low density, granulate' (kilogram, RER, None\n",
      "  0.196 (0.0045): 'market group for electricity, medium voltage' (kilowatt hour, RER, No\n",
      "    0.195 (0.0045): 'market group for electricity, medium voltage' (kilowatt hour, Europe \n",
      "      0.041 (0.0009): 'market for electricity, medium voltage' (kilowatt hour, DE, None)\n",
      "        0.041 (0.0009): 'electricity voltage transformation from high to medium voltage' (kilo\n",
      "          0.041 (0.0009): 'market for electricity, high voltage' (kilowatt hour, DE, None)\n",
      "  0.731 (0.0168): 'market for ethylene, average' (kilogram, RER, None)\n",
      "    0.731 (0.0168): 'ethylene production, average' (kilogram, RER, None)\n",
      "  0.027 (0.0006): 'chemical factory construction, organics' (unit, RER, None)\n"
     ]
    }
   ],
   "source": [
    "print_recursive_calculation(act, ipcc, max_level=7, cutoff=0.025)"
   ]
  },
  {
   "cell_type": "markdown",
   "id": "intended-fruit",
   "metadata": {},
   "source": [
    "Set the cutoff to zero if you want all inputs. But lower the `max_level`, otherwise, there will be a lot of printing!"
   ]
  },
  {
   "cell_type": "code",
   "execution_count": 8,
   "id": "portuguese-timer",
   "metadata": {},
   "outputs": [
    {
     "name": "stdout",
     "output_type": "stream",
     "text": [
      "1.000 (0.0230): 'polyethylene production, low density, granulate' (kilogram, RER, None\n",
      "  0.000 (0.0000): 'market for chemicals, inorganic' (kilogram, GLO, None)\n",
      "  0.196 (0.0045): 'market group for electricity, medium voltage' (kilowatt hour, RER, No\n",
      "  0.002 (0.0000): 'market group for waste plastic, mixture' (kilogram, RER, None)\n",
      "  0.018 (0.0004): 'market for chemical, organic' (kilogram, GLO, None)\n",
      "  0.731 (0.0168): 'market for ethylene, average' (kilogram, RER, None)\n",
      "  0.001 (0.0000): 'market for compressed air, 600 kPa gauge' (cubic meter, RER, None)\n",
      "  0.027 (0.0006): 'chemical factory construction, organics' (unit, RER, None)\n",
      "  0.002 (0.0000): 'market for nitrogen, liquid' (kilogram, RER, None)\n",
      "  0.002 (0.0001): 'market for propylene' (kilogram, RER, None)\n",
      "  0.000 (0.0000): 'market for hydrogen, liquid' (kilogram, RER, None)\n",
      "  0.004 (0.0001): 'market for wastewater, unpolluted' (cubic meter, CH, None)\n",
      "  0.001 (0.0000): 'market for solvent, organic' (kilogram, GLO, None)\n",
      "  0.000 (0.0000): 'market for wastewater, average' (cubic meter, Europe without Switzerl\n",
      "  0.000 (0.0000): 'market for wastewater, average' (cubic meter, CH, None)\n",
      "  0.001 (0.0000): 'market group for natural gas, high pressure' (cubic meter, Europe wit\n",
      "  0.000 (0.0000): 'market for natural gas, high pressure' (cubic meter, CH, None)\n",
      "  0.001 (0.0000): 'market for spent solvent mixture' (kilogram, Europe without Switzerla\n",
      "  0.000 (0.0000): 'market for spent solvent mixture' (kilogram, CH, None)\n",
      "  0.002 (0.0000): 'market for hazardous waste, for incineration' (kilogram, Europe witho\n",
      "  0.000 (0.0000): 'market for hazardous waste, for incineration' (kilogram, CH, None)\n"
     ]
    }
   ],
   "source": [
    "print_recursive_calculation(act, ipcc, max_level=1, cutoff=0)"
   ]
  },
  {
   "cell_type": "markdown",
   "id": "innocent-subscriber",
   "metadata": {},
   "source": [
    "## Compare activities\n",
    "\n",
    "Compare the LCA scores of a list of activities, either with the same name, or with similar attributes."
   ]
  },
  {
   "cell_type": "code",
   "execution_count": 9,
   "id": "handmade-celtic",
   "metadata": {},
   "outputs": [],
   "source": [
    "def compare_activities(activities, lcia_method):\n",
    "    \"\"\"Compare selected activities to see if they are substantially different.\n",
    "    \n",
    "    Inputs:\n",
    "    \n",
    "        ``activities``: List of ``Activity`` objects.\n",
    "        ``lcia_method``: Tuple identifying a ``Method``\n",
    "        \n",
    "    Returns:\n",
    "    \n",
    "        Nothing, but prints to stdout.\n",
    "    \n",
    "    \"\"\"\n",
    "    import bw2calc as bc\n",
    "    \n",
    "    lca = bc.LCA({a: 1 for a in activities}, lcia_method)\n",
    "    lca.lci()\n",
    "    lca.lcia()\n",
    "    \n",
    "    # First pass: Are all scores close?\n",
    "    scores = []\n",
    "    \n",
    "    for a in activities:\n",
    "        lca.redo_lcia({a: 1})\n",
    "        scores.append(lca.score)\n",
    "        \n",
    "    if abs(max(scores) - min(scores)) < 0.1 * abs(max(scores)):\n",
    "        print(\"All activities similar\")\n",
    "        return\n",
    "    else:\n",
    "        print(\"Differences observed. LCA scores:\")\n",
    "        for x, y in zip(scores, activities):\n",
    "            print(\"\\t{:5.3f}{}\".format(x, y))"
   ]
  },
  {
   "cell_type": "code",
   "execution_count": 10,
   "id": "important-gravity",
   "metadata": {},
   "outputs": [
    {
     "name": "stdout",
     "output_type": "stream",
     "text": [
      "All activities similar\n"
     ]
    }
   ],
   "source": [
    "compare_activities([x for x in bd.Database(\"ecoinvent 3.7.1\") \n",
    "                    if 'polyethylene terephthalate' in x['name'].lower()\n",
    "                    and not x['name'].startswith(\"market\")\n",
    "                    and not 'waste' in x['name'].lower()\n",
    "                    and not 'to generic market' in x['name'].lower()\n",
    "                    and x['location'] == 'CH'], \n",
    "                   ipcc)"
   ]
  },
  {
   "cell_type": "code",
   "execution_count": 11,
   "id": "injured-tourism",
   "metadata": {},
   "outputs": [],
   "source": [
    "pet_production = [x for x in bd.Database(\"ecoinvent 3.7.1\") \n",
    "                    if 'polyethylene terephthalate' in x['name'].lower()\n",
    "                    and not x['name'].startswith(\"market\")\n",
    "                    and not 'waste' in x['name'].lower()\n",
    "                    and not 'to generic market' in x['name'].lower()]"
   ]
  },
  {
   "cell_type": "code",
   "execution_count": 12,
   "id": "muslim-glenn",
   "metadata": {},
   "outputs": [
    {
     "name": "stdout",
     "output_type": "stream",
     "text": [
      "Differences observed. LCA scores:\n",
      "\t1.013'polyethylene terephthalate production, granulate, bottle grade, recycled' (kilogram, RoW, None)\n",
      "\t3.164'polyethylene terephthalate production, granulate, bottle grade' (kilogram, CA-QC, None)\n",
      "\t2.838'polyethylene terephthalate production, granulate, bottle grade' (kilogram, RoW, None)\n",
      "\t2.944'polyethylene terephthalate production, granulate, amorphous' (kilogram, RER, None)\n",
      "\t0.438'polyethylene terephthalate production, granulate, bottle grade, recycled' (kilogram, CH, None)\n",
      "\t0.397'polyethylene terephthalate production, granulate, amorphous, recycled' (kilogram, CH, None)\n",
      "\t2.748'polyethylene terephthalate production, granulate, bottle grade' (kilogram, RER, None)\n",
      "\t1.093'polyethylene terephthalate production, granulate, amorphous, recycled' (kilogram, Europe without Switzerland, None)\n",
      "\t1.588'polyethylene terephthalate production, granulate, amorphous, recycled' (kilogram, RoW, None)\n",
      "\t2.943'polyethylene terephthalate production, granulate, amorphous' (kilogram, CA-QC, None)\n",
      "\t1.271'polyethylene terephthalate production, granulate, amorphous, recycled' (kilogram, US, None)\n",
      "\t3.105'polyethylene terephthalate production, granulate, amorphous' (kilogram, RoW, None)\n"
     ]
    }
   ],
   "source": [
    "compare_activities(pet_production, ipcc)"
   ]
  },
  {
   "cell_type": "markdown",
   "id": "parental-offset",
   "metadata": {},
   "source": [
    "## Construct aggregated arborescence\n",
    "\n",
    "Group by CPC codes"
   ]
  },
  {
   "cell_type": "code",
   "execution_count": 17,
   "id": "plain-junction",
   "metadata": {},
   "outputs": [],
   "source": [
    "def find_leaves(activity, lcia_method, results=None, lca_obj=None, amount=1, total_score=None, level=0, max_level=3, cutoff=2.5e-2):\n",
    "    \"\"\"Traverse the supply chain of an activity to find leaves - places where the impact of that \n",
    "    component falls below a threshold value.\n",
    "    \n",
    "    Returns a list of ``(fraction of total impact, specific impact, amount, Activity instance)`` tuples.\"\"\"\n",
    "    if results is None:\n",
    "        results = []\n",
    "\n",
    "    if lca_obj is None:\n",
    "        lca_obj = bc.LCA({activity: amount}, lcia_method)\n",
    "        lca_obj.lci()\n",
    "        lca_obj.lcia()\n",
    "        total_score = lca_obj.score\n",
    "    elif total_score is None:\n",
    "        raise ValueError\n",
    "    else:\n",
    "        lca_obj.redo_lcia({activity: amount})\n",
    "        if abs(lca_obj.score) <= abs(total_score * cutoff) or level >= max_level:\n",
    "            if abs(lca_obj.score) > abs(total_score * 1e-6):\n",
    "                results.append((lca_obj.score / total_score, lca_obj.score, amount, activity))\n",
    "            return results\n",
    "\n",
    "    # Add direct impacts from this activity, if relevant\n",
    "    da = np.zeros_like(lca_obj.demand_array)\n",
    "    da[lca_obj.product_dict[activity]] = amount\n",
    "    direct = (lca_obj.characterization_matrix * lca_obj.biosphere_matrix * da).sum()\n",
    "    if abs(direct) >= abs(total_score * cutoff):\n",
    "        results.append((direct / total_score, direct, amount, activity))\n",
    "        \n",
    "        \n",
    "    for exc in activity.technosphere():\n",
    "        find_leaves(\n",
    "            activity=exc.input, \n",
    "            lcia_method=lcia_method, \n",
    "            results=results,\n",
    "            lca_obj=lca_obj, \n",
    "            amount=amount * exc['amount'],\n",
    "            total_score=total_score,\n",
    "            level=level + 1, \n",
    "            max_level=max_level, \n",
    "            cutoff=cutoff\n",
    "        )\n",
    "    \n",
    "    return sorted(results, reverse=True)"
   ]
  },
  {
   "cell_type": "code",
   "execution_count": 18,
   "id": "photographic-warrant",
   "metadata": {},
   "outputs": [],
   "source": [
    "def get_cpc(activity):\n",
    "        try:\n",
    "            return next(cl[1] for cl in activity.get('classifications', []) if cl[0] == 'CPC')\n",
    "        except StopIteration:\n",
    "            return"
   ]
  },
  {
   "cell_type": "code",
   "execution_count": 19,
   "id": "electrical-bachelor",
   "metadata": {},
   "outputs": [],
   "source": [
    "def group_leaves(leaves):\n",
    "    \"\"\"Group elements in ``leaves`` by their `CPC (Central Product Classification) <https://unstats.un.org/unsd/classifications/Econ/cpc>`__ code.\n",
    "    \n",
    "    Returns a list of ``(fraction of total impact, specific impact, amount, Activity instance)`` tuples.\"\"\"\n",
    "    results = {}\n",
    "        \n",
    "    for leaf in leaves:\n",
    "        cpc = get_cpc(leaf[3])\n",
    "        if cpc not in results:\n",
    "            results[cpc] = np.zeros((3,))\n",
    "        results[cpc] += np.array(leaf[:3])\n",
    "    \n",
    "    _ = lambda x: float(x)\n",
    "    \n",
    "    return sorted([(_(a[0]), _(a[1]), _(a[2]), k) for k, a in results.items()], reverse=True)"
   ]
  },
  {
   "cell_type": "code",
   "execution_count": 20,
   "id": "compact-ukraine",
   "metadata": {},
   "outputs": [
    {
     "data": {
      "text/plain": [
       "[(0.7274518715189927,\n",
       "  0.016756729814329387,\n",
       "  0.011586675833,\n",
       "  'ethylene production, average' (kilogram, RER, None)),\n",
       " (0.04118571372722042,\n",
       "  0.0009487058926610116,\n",
       "  0.0016417552467926355,\n",
       "  'market for electricity, medium voltage' (kilowatt hour, DE, None)),\n",
       " (0.02166420948066825,\n",
       "  0.000499031371175891,\n",
       "  0.0005067167625697237,\n",
       "  'market for electricity, medium voltage' (kilowatt hour, PL, None)),\n",
       " (0.018477977506640535,\n",
       "  0.0004256370609748953,\n",
       "  0.0009616517455802065,\n",
       "  'market for electricity, medium voltage' (kilowatt hour, IT, None)),\n",
       " (0.01841228848656637,\n",
       "  0.0004241239255988705,\n",
       "  0.000211930908987205,\n",
       "  'market for chemical, organic' (kilogram, GLO, None)),\n",
       " (0.016306900720072584,\n",
       "  0.0003756266774113529,\n",
       "  5.8495193426313e-05,\n",
       "  'chemical factory construction' (kilogram, RER, None)),\n",
       " (0.014158557355125704,\n",
       "  0.00032613995433831695,\n",
       "  0.0009730749074477607,\n",
       "  'market for electricity, medium voltage' (kilowatt hour, GB, None)),\n",
       " (0.012682968774208953,\n",
       "  0.00029215002299632834,\n",
       "  0.0007807902589610493,\n",
       "  'market for electricity, medium voltage' (kilowatt hour, ES, None)),\n",
       " (0.010718997579257752,\n",
       "  0.0002469102814197426,\n",
       "  0.0004711337962163948,\n",
       "  'market for electricity, medium voltage' (kilowatt hour, UA, None)),\n",
       " (0.00949880583773164,\n",
       "  0.000218803372722491,\n",
       "  7.335111556632901e-07,\n",
       "  'building construction, multi-storey' (cubic meter, RER, None)),\n",
       " (0.00825264285027301,\n",
       "  0.00019009822080383706,\n",
       "  0.00032161223486160676,\n",
       "  'market for electricity, medium voltage' (kilowatt hour, NL, None)),\n",
       " (0.007409855415379255,\n",
       "  0.00017068475595435163,\n",
       "  0.00019365155803014873,\n",
       "  'market for electricity, medium voltage' (kilowatt hour, CZ, None)),\n",
       " (0.007389756445885935,\n",
       "  0.00017022177961937738,\n",
       "  0.0015992855603878858,\n",
       "  'market for electricity, medium voltage' (kilowatt hour, FR, None)),\n",
       " (0.006330913056987636,\n",
       "  0.00014583150271156074,\n",
       "  0.00017932100828787077,\n",
       "  'market for electricity, medium voltage' (kilowatt hour, GR, None)),\n",
       " (0.004999030905863668,\n",
       "  0.00011515182447482744,\n",
       "  0.00011943539962408446,\n",
       "  'market for electricity, medium voltage' (kilowatt hour, RS, None)),\n",
       " (0.004390939702847282,\n",
       "  0.00010114454730590746,\n",
       "  -0.000356057737786886,\n",
       "  'market for wastewater, unpolluted' (cubic meter, CH, None)),\n",
       " (0.003556128671853391,\n",
       "  8.191481756010782e-05,\n",
       "  0.00023960149557359706,\n",
       "  'market for electricity, medium voltage' (kilowatt hour, AT, None)),\n",
       " (0.0033628187938223334,\n",
       "  7.74619574831332e-05,\n",
       "  0.0001678849510938439,\n",
       "  'market for electricity, medium voltage' (kilowatt hour, RO, None)),\n",
       " (0.0033504452486142855,\n",
       "  7.717693497922004e-05,\n",
       "  0.00015721798761931692,\n",
       "  'market for electricity, medium voltage' (kilowatt hour, PT, None)),\n",
       " (0.0032777483013841694,\n",
       "  7.550237319615944e-05,\n",
       "  0.00012016396487640248,\n",
       "  'market for electricity, medium voltage' (kilowatt hour, BG, None))]"
      ]
     },
     "execution_count": 20,
     "metadata": {},
     "output_type": "execute_result"
    }
   ],
   "source": [
    "find_leaves(act, ipcc)[:20]"
   ]
  },
  {
   "cell_type": "code",
   "execution_count": 21,
   "id": "pediatric-wales",
   "metadata": {},
   "outputs": [
    {
     "data": {
      "text/plain": [
       "[(0.7298572894865746,\n",
       "  0.0168121382070374,\n",
       "  0.011623711179268872,\n",
       "  '33421: Ethylene, propylene, butylene, butadiene'),\n",
       " (0.19597103085875947,\n",
       "  0.00451415927857724,\n",
       "  0.01106526337462979,\n",
       "  '17100: Electrical energy'),\n",
       " (0.019533883648797632,\n",
       "  0.0004499596789048918,\n",
       "  0.0002450884690768921,\n",
       "  '341: Basic organic chemicals'),\n",
       " (0.016306900720072584,\n",
       "  0.0003756266774113529,\n",
       "  5.8495193426313e-05,\n",
       "  '53269: Other constructions for manufacturing'),\n",
       " (0.010311476068147734,\n",
       "  0.00023752309290246137,\n",
       "  7.822571501852176e-07,\n",
       "  '531: Buildings')]"
      ]
     },
     "execution_count": 21,
     "metadata": {},
     "output_type": "execute_result"
    }
   ],
   "source": [
    "group_leaves(find_leaves(act, ipcc))[:5]"
   ]
  },
  {
   "cell_type": "markdown",
   "id": "civilian-french",
   "metadata": {},
   "source": [
    "## Comparing activities by arborescences"
   ]
  },
  {
   "cell_type": "code",
   "execution_count": 22,
   "id": "considerable-persian",
   "metadata": {},
   "outputs": [],
   "source": [
    "def get_value_for_cpc(lst, label, index):\n",
    "    for elem in lst:\n",
    "        if elem[3] == label:\n",
    "            return elem[index]\n",
    "    return 0"
   ]
  },
  {
   "cell_type": "code",
   "execution_count": 23,
   "id": "scientific-horror",
   "metadata": {},
   "outputs": [],
   "source": [
    "def compare_activities_by_grouped_leaves(activities, lcia_method, mode='relative'):\n",
    "    index = 0 if mode == 'relative' else 1\n",
    "    \n",
    "    objs = [group_leaves(find_leaves(act, lcia_method)) for act in activities]\n",
    "    sorted_keys = sorted([\n",
    "                       (max([el[index] \n",
    "                             for obj in objs \n",
    "                             for el in obj \n",
    "                             if el[3] == key]), \n",
    "                        key) \n",
    "                       for key in {el[3] \n",
    "                                   for obj in objs \n",
    "                                   for el in obj\n",
    "                                  }\n",
    "                       ]\n",
    "                   , reverse=True)\n",
    "    name_common = commonprefix([act['name'] for act in activities])\n",
    "    product_common = commonprefix([act['reference product'] for act in activities])\n",
    "    \n",
    "    lca = bc.LCA({act: 1 for act in activities}, lcia_method)\n",
    "    lca.lci()\n",
    "    lca.lcia()\n",
    "    \n",
    "    labels = ['activity', 'product', 'location', 'unit', 'total'] + [key for _, key in sorted_keys]\n",
    "    data = []\n",
    "    for act, lst in zip(activities, objs):\n",
    "        lca.redo_lcia({act: 1})\n",
    "        data.append([\n",
    "            act['name'].replace(name_common, ''),\n",
    "            act['reference product'].replace(product_common, ''),\n",
    "            act['location'][:25],\n",
    "            act['unit'],\n",
    "            lca.score,\n",
    "        ] + [get_value_for_cpc(lst, key, index) for _, key in sorted_keys])\n",
    "\n",
    "    return labels, data"
   ]
  },
  {
   "cell_type": "code",
   "execution_count": 24,
   "id": "placed-diploma",
   "metadata": {},
   "outputs": [],
   "source": [
    "def table_for_compared_activities(labels, data, str_cutoff=50):\n",
    "    return tabulate.tabulate(sorted(data, key=lambda x: x[4]), [x[:str_cutoff] for x in labels], tablefmt=\"html\", floatfmt=\".3f\")"
   ]
  },
  {
   "cell_type": "code",
   "execution_count": 25,
   "id": "exotic-senate",
   "metadata": {},
   "outputs": [
    {
     "data": {
      "text/html": [
       "<table>\n",
       "<thead>\n",
       "<tr><th>activity              </th><th>product               </th><th>location                 </th><th>unit    </th><th style=\"text-align: right;\">  total</th><th style=\"text-align: right;\">  17100: Electrical energy</th><th style=\"text-align: right;\">  39270: Waste, parings and scrap of plastics</th><th style=\"text-align: right;\">  347: Plastics in primary forms</th><th style=\"text-align: right;\">  34110: Hydrocarbons and their halogenated, sulphon</th><th style=\"text-align: right;\">  39910: Municipal waste</th><th style=\"text-align: right;\">  17300: Steam and hot water</th><th style=\"text-align: right;\">  34170: Ethers, alcohol peroxides, ether peroxides,</th><th style=\"text-align: right;\">  53269: Other constructions for manufacturing</th><th style=\"text-align: right;\">  34710: Polymers of ethylene, in primary forms</th><th style=\"text-align: right;\">  12020: Natural gas, liquefied or in the gaseous st</th><th style=\"text-align: right;\">  34231: Chemical elements n.e.c.; inorganic acids e</th><th style=\"text-align: right;\">  543: Site preparation services</th><th style=\"text-align: right;\">  34120: Industrial monocarboxylic fatty acids; acid</th><th style=\"text-align: right;\">  11010: Hard coal</th><th style=\"text-align: right;\">  41122: Alloy steel in ingots or other primary form</th><th style=\"text-align: right;\">  53290: Other civil engineering works</th><th style=\"text-align: right;\">  6511: Road transport services of freight</th><th style=\"text-align: right;\">  34250: Salts of oxometallic or peroxometallic acid</th><th style=\"text-align: right;\">  341: Basic organic chemicals</th><th style=\"text-align: right;\">  16200: Salt and pure sodium chloride; sea water</th><th style=\"text-align: right;\">  34210: Hydrogen, nitrogen, oxygen, carbon dioxide </th><th style=\"text-align: right;\">  89330: Metal forging, pressing, stamping, roll for</th><th style=\"text-align: right;\">  6512: Railway transport services of freight</th><th style=\"text-align: right;\">  39920: Sewage sludge</th><th style=\"text-align: right;\">  33370: Fuel oils n.e.c.</th><th style=\"text-align: right;\">  35321: Soap; organic surface-active products and p</th><th style=\"text-align: right;\">  41601: Tungsten, molybdenum, tantalum, magnesium, </th><th style=\"text-align: right;\">  65213: Coastal and transoceanic water transport se</th><th style=\"text-align: right;\">  532: Civil engineering works</th><th style=\"text-align: right;\">  41603: Bismuth, antimony, manganese, chromium and </th><th style=\"text-align: right;\">  374: Plaster, lime and cement</th><th style=\"text-align: right;\">  37420: Quicklime, slaked lime and hydraulic lime</th><th style=\"text-align: right;\">  39950: Wastes from chemical or allied industries</th><th style=\"text-align: right;\">  34: Basic chemicals</th><th style=\"text-align: right;\">  39: Wastes or scraps</th><th style=\"text-align: right;\">  34651: Ammonia, anhydrous</th><th style=\"text-align: right;\">  34240: Phosphates of triammonium; salts and peroxy</th><th style=\"text-align: right;\">  342: Basic inorganic chemicals n.e.c.</th><th style=\"text-align: right;\">  43420: Industrial or laboratory furnaces and ovens</th><th style=\"text-align: right;\">  39990: Other wastes n.e.c.</th><th style=\"text-align: right;\">  34280: Hydrogen peroxide; phosphides; carbides; hy</th><th style=\"text-align: right;\">  53262: Power plants</th><th style=\"text-align: right;\">  65229: Other inland water transport services of fr</th><th style=\"text-align: right;\">  89200: Moulding, pressing, stamping, extruding and</th><th style=\"text-align: right;\">  14290: Other non-ferrous metal ores and concentrat</th><th style=\"text-align: right;\">  53253: Sewage and water treatment plants</th><th style=\"text-align: right;\">  42210: Reservoirs, tanks, vats and similar contain</th><th style=\"text-align: right;\">  34232: Phosphoric acid</th><th style=\"text-align: right;\">  18000: Natural water</th><th style=\"text-align: right;\">  4160: Other non-ferrous metals and articles thereo</th><th style=\"text-align: right;\">  54330: Excavating and earthmoving services</th><th style=\"text-align: right;\">  34220: Zinc oxide; zinc peroxide; chromium oxides </th><th style=\"text-align: right;\">  34790: Other plastics in primary forms; ion exchan</th><th style=\"text-align: right;\">  94231: General waste collection services, resident</th></tr>\n",
       "</thead>\n",
       "<tbody>\n",
       "<tr><td>amorphous, recycled   </td><td>amorphous, recycled   </td><td>CH                       </td><td>kilogram</td><td style=\"text-align: right;\">  0.397</td><td style=\"text-align: right;\">                     0.123</td><td style=\"text-align: right;\">                                        0.465</td><td style=\"text-align: right;\">                           0.000</td><td style=\"text-align: right;\">                                               0.000</td><td style=\"text-align: right;\">                   0.221</td><td style=\"text-align: right;\">                       0.068</td><td style=\"text-align: right;\">                                               0.000</td><td style=\"text-align: right;\">                                         0.000</td><td style=\"text-align: right;\">                                          0.000</td><td style=\"text-align: right;\">                                               0.000</td><td style=\"text-align: right;\">                                               0.009</td><td style=\"text-align: right;\">                           0.033</td><td style=\"text-align: right;\">                                               0.000</td><td style=\"text-align: right;\">             0.000</td><td style=\"text-align: right;\">                                               0.025</td><td style=\"text-align: right;\">                                 0.023</td><td style=\"text-align: right;\">                                    -0.000</td><td style=\"text-align: right;\">                                               0.000</td><td style=\"text-align: right;\">                         0.006</td><td style=\"text-align: right;\">                                            0.000</td><td style=\"text-align: right;\">                                               0.000</td><td style=\"text-align: right;\">                                               0.006</td><td style=\"text-align: right;\">                                        0.000</td><td style=\"text-align: right;\">                 0.004</td><td style=\"text-align: right;\">                    0.005</td><td style=\"text-align: right;\">                                               0.004</td><td style=\"text-align: right;\">                                               0.000</td><td style=\"text-align: right;\">                                               0.000</td><td style=\"text-align: right;\">                         0.002</td><td style=\"text-align: right;\">                                               0.000</td><td style=\"text-align: right;\">                          0.001</td><td style=\"text-align: right;\">                                             0.001</td><td style=\"text-align: right;\">                                             0.000</td><td style=\"text-align: right;\">                0.000</td><td style=\"text-align: right;\">                 0.000</td><td style=\"text-align: right;\">                      0.000</td><td style=\"text-align: right;\">                                               0.000</td><td style=\"text-align: right;\">                                  0.000</td><td style=\"text-align: right;\">                                               0.000</td><td style=\"text-align: right;\">                       0.000</td><td style=\"text-align: right;\">                                               0.000</td><td style=\"text-align: right;\">                0.000</td><td style=\"text-align: right;\">                                               0.000</td><td style=\"text-align: right;\">                                               0.000</td><td style=\"text-align: right;\">                                               0.000</td><td style=\"text-align: right;\">                                     0.000</td><td style=\"text-align: right;\">                                               0.000</td><td style=\"text-align: right;\">                   0.000</td><td style=\"text-align: right;\">                 0.000</td><td style=\"text-align: right;\">                                               0.000</td><td style=\"text-align: right;\">                                       0.000</td><td style=\"text-align: right;\">                                               0.000</td><td style=\"text-align: right;\">                                               0.000</td><td style=\"text-align: right;\">                                              -0.001</td></tr>\n",
       "<tr><td>bottle grade, recycled</td><td>bottle grade, recycled</td><td>CH                       </td><td>kilogram</td><td style=\"text-align: right;\">  0.438</td><td style=\"text-align: right;\">                     0.141</td><td style=\"text-align: right;\">                                        0.421</td><td style=\"text-align: right;\">                           0.000</td><td style=\"text-align: right;\">                                               0.000</td><td style=\"text-align: right;\">                   0.242</td><td style=\"text-align: right;\">                       0.050</td><td style=\"text-align: right;\">                                               0.000</td><td style=\"text-align: right;\">                                         0.001</td><td style=\"text-align: right;\">                                          0.000</td><td style=\"text-align: right;\">                                               0.000</td><td style=\"text-align: right;\">                                               0.033</td><td style=\"text-align: right;\">                           0.030</td><td style=\"text-align: right;\">                                               0.000</td><td style=\"text-align: right;\">             0.000</td><td style=\"text-align: right;\">                                               0.023</td><td style=\"text-align: right;\">                                 0.021</td><td style=\"text-align: right;\">                                     0.002</td><td style=\"text-align: right;\">                                               0.000</td><td style=\"text-align: right;\">                         0.002</td><td style=\"text-align: right;\">                                            0.010</td><td style=\"text-align: right;\">                                               0.000</td><td style=\"text-align: right;\">                                               0.006</td><td style=\"text-align: right;\">                                        0.001</td><td style=\"text-align: right;\">                 0.005</td><td style=\"text-align: right;\">                    0.000</td><td style=\"text-align: right;\">                                               0.001</td><td style=\"text-align: right;\">                                               0.000</td><td style=\"text-align: right;\">                                               0.000</td><td style=\"text-align: right;\">                         0.002</td><td style=\"text-align: right;\">                                               0.000</td><td style=\"text-align: right;\">                          0.001</td><td style=\"text-align: right;\">                                             0.001</td><td style=\"text-align: right;\">                                             0.000</td><td style=\"text-align: right;\">                0.001</td><td style=\"text-align: right;\">                 0.000</td><td style=\"text-align: right;\">                      0.000</td><td style=\"text-align: right;\">                                               0.000</td><td style=\"text-align: right;\">                                  0.000</td><td style=\"text-align: right;\">                                               0.000</td><td style=\"text-align: right;\">                       0.000</td><td style=\"text-align: right;\">                                               0.000</td><td style=\"text-align: right;\">                0.000</td><td style=\"text-align: right;\">                                               0.000</td><td style=\"text-align: right;\">                                               0.000</td><td style=\"text-align: right;\">                                               0.000</td><td style=\"text-align: right;\">                                     0.000</td><td style=\"text-align: right;\">                                               0.000</td><td style=\"text-align: right;\">                   0.000</td><td style=\"text-align: right;\">                 0.000</td><td style=\"text-align: right;\">                                               0.000</td><td style=\"text-align: right;\">                                       0.000</td><td style=\"text-align: right;\">                                               0.000</td><td style=\"text-align: right;\">                                               0.000</td><td style=\"text-align: right;\">                                              -0.001</td></tr>\n",
       "<tr><td>bottle grade, recycled</td><td>bottle grade, recycled</td><td>RoW                      </td><td>kilogram</td><td style=\"text-align: right;\">  1.013</td><td style=\"text-align: right;\">                     0.284</td><td style=\"text-align: right;\">                                        0.240</td><td style=\"text-align: right;\">                           0.000</td><td style=\"text-align: right;\">                                               0.000</td><td style=\"text-align: right;\">                   0.047</td><td style=\"text-align: right;\">                       0.218</td><td style=\"text-align: right;\">                                               0.000</td><td style=\"text-align: right;\">                                         0.001</td><td style=\"text-align: right;\">                                          0.000</td><td style=\"text-align: right;\">                                               0.000</td><td style=\"text-align: right;\">                                               0.015</td><td style=\"text-align: right;\">                           0.007</td><td style=\"text-align: right;\">                                               0.000</td><td style=\"text-align: right;\">             0.027</td><td style=\"text-align: right;\">                                               0.013</td><td style=\"text-align: right;\">                                 0.009</td><td style=\"text-align: right;\">                                     0.001</td><td style=\"text-align: right;\">                                               0.000</td><td style=\"text-align: right;\">                         0.001</td><td style=\"text-align: right;\">                                            0.004</td><td style=\"text-align: right;\">                                               0.000</td><td style=\"text-align: right;\">                                               0.003</td><td style=\"text-align: right;\">                                        0.000</td><td style=\"text-align: right;\">                 0.003</td><td style=\"text-align: right;\">                    0.000</td><td style=\"text-align: right;\">                                               0.000</td><td style=\"text-align: right;\">                                               0.000</td><td style=\"text-align: right;\">                                               0.000</td><td style=\"text-align: right;\">                         0.000</td><td style=\"text-align: right;\">                                               0.000</td><td style=\"text-align: right;\">                          0.000</td><td style=\"text-align: right;\">                                             0.000</td><td style=\"text-align: right;\">                                             0.000</td><td style=\"text-align: right;\">                0.000</td><td style=\"text-align: right;\">                 0.000</td><td style=\"text-align: right;\">                      0.000</td><td style=\"text-align: right;\">                                               0.000</td><td style=\"text-align: right;\">                                  0.000</td><td style=\"text-align: right;\">                                               0.000</td><td style=\"text-align: right;\">                       0.000</td><td style=\"text-align: right;\">                                               0.000</td><td style=\"text-align: right;\">                0.000</td><td style=\"text-align: right;\">                                               0.000</td><td style=\"text-align: right;\">                                               0.000</td><td style=\"text-align: right;\">                                               0.000</td><td style=\"text-align: right;\">                                     0.000</td><td style=\"text-align: right;\">                                               0.000</td><td style=\"text-align: right;\">                   0.000</td><td style=\"text-align: right;\">                 0.000</td><td style=\"text-align: right;\">                                               0.000</td><td style=\"text-align: right;\">                                       0.000</td><td style=\"text-align: right;\">                                               0.000</td><td style=\"text-align: right;\">                                               0.000</td><td style=\"text-align: right;\">                                               0.000</td></tr>\n",
       "<tr><td>amorphous, recycled   </td><td>amorphous, recycled   </td><td>Europe without Switzerlan</td><td>kilogram</td><td style=\"text-align: right;\">  1.093</td><td style=\"text-align: right;\">                     0.368</td><td style=\"text-align: right;\">                                        0.225</td><td style=\"text-align: right;\">                           0.000</td><td style=\"text-align: right;\">                                               0.000</td><td style=\"text-align: right;\">                  -0.062</td><td style=\"text-align: right;\">                       0.112</td><td style=\"text-align: right;\">                                               0.000</td><td style=\"text-align: right;\">                                         0.000</td><td style=\"text-align: right;\">                                          0.000</td><td style=\"text-align: right;\">                                               0.013</td><td style=\"text-align: right;\">                                               0.027</td><td style=\"text-align: right;\">                           0.008</td><td style=\"text-align: right;\">                                               0.000</td><td style=\"text-align: right;\">             0.000</td><td style=\"text-align: right;\">                                               0.013</td><td style=\"text-align: right;\">                                 0.008</td><td style=\"text-align: right;\">                                     0.001</td><td style=\"text-align: right;\">                                               0.000</td><td style=\"text-align: right;\">                         0.012</td><td style=\"text-align: right;\">                                            0.000</td><td style=\"text-align: right;\">                                               0.000</td><td style=\"text-align: right;\">                                               0.003</td><td style=\"text-align: right;\">                                        0.000</td><td style=\"text-align: right;\">                 0.000</td><td style=\"text-align: right;\">                    0.000</td><td style=\"text-align: right;\">                                               0.000</td><td style=\"text-align: right;\">                                               0.000</td><td style=\"text-align: right;\">                                               0.000</td><td style=\"text-align: right;\">                         0.001</td><td style=\"text-align: right;\">                                               0.000</td><td style=\"text-align: right;\">                          0.000</td><td style=\"text-align: right;\">                                             0.000</td><td style=\"text-align: right;\">                                             0.000</td><td style=\"text-align: right;\">                0.000</td><td style=\"text-align: right;\">                 0.000</td><td style=\"text-align: right;\">                      0.000</td><td style=\"text-align: right;\">                                               0.000</td><td style=\"text-align: right;\">                                  0.000</td><td style=\"text-align: right;\">                                               0.000</td><td style=\"text-align: right;\">                       0.000</td><td style=\"text-align: right;\">                                               0.000</td><td style=\"text-align: right;\">                0.000</td><td style=\"text-align: right;\">                                               0.000</td><td style=\"text-align: right;\">                                               0.000</td><td style=\"text-align: right;\">                                               0.000</td><td style=\"text-align: right;\">                                     0.000</td><td style=\"text-align: right;\">                                               0.000</td><td style=\"text-align: right;\">                   0.000</td><td style=\"text-align: right;\">                 0.000</td><td style=\"text-align: right;\">                                               0.000</td><td style=\"text-align: right;\">                                       0.000</td><td style=\"text-align: right;\">                                               0.000</td><td style=\"text-align: right;\">                                               0.000</td><td style=\"text-align: right;\">                                               0.000</td></tr>\n",
       "<tr><td>amorphous, recycled   </td><td>amorphous, recycled   </td><td>US                       </td><td>kilogram</td><td style=\"text-align: right;\">  1.271</td><td style=\"text-align: right;\">                     0.417</td><td style=\"text-align: right;\">                                        0.182</td><td style=\"text-align: right;\">                           0.000</td><td style=\"text-align: right;\">                                               0.000</td><td style=\"text-align: right;\">                   0.080</td><td style=\"text-align: right;\">                       0.073</td><td style=\"text-align: right;\">                                               0.000</td><td style=\"text-align: right;\">                                         0.000</td><td style=\"text-align: right;\">                                          0.000</td><td style=\"text-align: right;\">                                               0.007</td><td style=\"text-align: right;\">                                               0.024</td><td style=\"text-align: right;\">                           0.007</td><td style=\"text-align: right;\">                                               0.000</td><td style=\"text-align: right;\">             0.000</td><td style=\"text-align: right;\">                                               0.011</td><td style=\"text-align: right;\">                                 0.007</td><td style=\"text-align: right;\">                                    -0.000</td><td style=\"text-align: right;\">                                               0.000</td><td style=\"text-align: right;\">                         0.011</td><td style=\"text-align: right;\">                                            0.000</td><td style=\"text-align: right;\">                                               0.000</td><td style=\"text-align: right;\">                                               0.003</td><td style=\"text-align: right;\">                                       -0.000</td><td style=\"text-align: right;\">                 0.000</td><td style=\"text-align: right;\">                    0.000</td><td style=\"text-align: right;\">                                               0.000</td><td style=\"text-align: right;\">                                               0.000</td><td style=\"text-align: right;\">                                               0.000</td><td style=\"text-align: right;\">                         0.001</td><td style=\"text-align: right;\">                                               0.000</td><td style=\"text-align: right;\">                          0.000</td><td style=\"text-align: right;\">                                             0.000</td><td style=\"text-align: right;\">                                             0.000</td><td style=\"text-align: right;\">                0.000</td><td style=\"text-align: right;\">                 0.000</td><td style=\"text-align: right;\">                      0.000</td><td style=\"text-align: right;\">                                               0.000</td><td style=\"text-align: right;\">                                  0.000</td><td style=\"text-align: right;\">                                               0.000</td><td style=\"text-align: right;\">                       0.000</td><td style=\"text-align: right;\">                                               0.000</td><td style=\"text-align: right;\">                0.000</td><td style=\"text-align: right;\">                                               0.000</td><td style=\"text-align: right;\">                                               0.000</td><td style=\"text-align: right;\">                                               0.000</td><td style=\"text-align: right;\">                                     0.000</td><td style=\"text-align: right;\">                                               0.000</td><td style=\"text-align: right;\">                   0.000</td><td style=\"text-align: right;\">                 0.000</td><td style=\"text-align: right;\">                                               0.000</td><td style=\"text-align: right;\">                                       0.000</td><td style=\"text-align: right;\">                                               0.000</td><td style=\"text-align: right;\">                                               0.000</td><td style=\"text-align: right;\">                                               0.000</td></tr>\n",
       "<tr><td>amorphous, recycled   </td><td>amorphous, recycled   </td><td>RoW                      </td><td>kilogram</td><td style=\"text-align: right;\">  1.588</td><td style=\"text-align: right;\">                     0.541</td><td style=\"text-align: right;\">                                        0.141</td><td style=\"text-align: right;\">                           0.000</td><td style=\"text-align: right;\">                                               0.000</td><td style=\"text-align: right;\">                   0.073</td><td style=\"text-align: right;\">                       0.079</td><td style=\"text-align: right;\">                                               0.000</td><td style=\"text-align: right;\">                                         0.000</td><td style=\"text-align: right;\">                                          0.000</td><td style=\"text-align: right;\">                                               0.037</td><td style=\"text-align: right;\">                                               0.019</td><td style=\"text-align: right;\">                           0.005</td><td style=\"text-align: right;\">                                               0.000</td><td style=\"text-align: right;\">             0.000</td><td style=\"text-align: right;\">                                               0.009</td><td style=\"text-align: right;\">                                 0.006</td><td style=\"text-align: right;\">                                    -0.001</td><td style=\"text-align: right;\">                                               0.000</td><td style=\"text-align: right;\">                         0.008</td><td style=\"text-align: right;\">                                            0.000</td><td style=\"text-align: right;\">                                               0.000</td><td style=\"text-align: right;\">                                               0.003</td><td style=\"text-align: right;\">                                        0.000</td><td style=\"text-align: right;\">                 0.000</td><td style=\"text-align: right;\">                    0.000</td><td style=\"text-align: right;\">                                               0.000</td><td style=\"text-align: right;\">                                               0.000</td><td style=\"text-align: right;\">                                               0.000</td><td style=\"text-align: right;\">                         0.000</td><td style=\"text-align: right;\">                                               0.000</td><td style=\"text-align: right;\">                          0.000</td><td style=\"text-align: right;\">                                             0.000</td><td style=\"text-align: right;\">                                             0.000</td><td style=\"text-align: right;\">                0.000</td><td style=\"text-align: right;\">                 0.000</td><td style=\"text-align: right;\">                      0.000</td><td style=\"text-align: right;\">                                               0.000</td><td style=\"text-align: right;\">                                  0.000</td><td style=\"text-align: right;\">                                               0.000</td><td style=\"text-align: right;\">                       0.000</td><td style=\"text-align: right;\">                                               0.000</td><td style=\"text-align: right;\">                0.000</td><td style=\"text-align: right;\">                                               0.000</td><td style=\"text-align: right;\">                                               0.000</td><td style=\"text-align: right;\">                                               0.000</td><td style=\"text-align: right;\">                                     0.000</td><td style=\"text-align: right;\">                                               0.000</td><td style=\"text-align: right;\">                   0.000</td><td style=\"text-align: right;\">                 0.000</td><td style=\"text-align: right;\">                                               0.000</td><td style=\"text-align: right;\">                                       0.000</td><td style=\"text-align: right;\">                                               0.000</td><td style=\"text-align: right;\">                                               0.000</td><td style=\"text-align: right;\">                                              -0.002</td></tr>\n",
       "<tr><td>bottle grade          </td><td>bottle grade          </td><td>RER                      </td><td>kilogram</td><td style=\"text-align: right;\">  2.748</td><td style=\"text-align: right;\">                     0.119</td><td style=\"text-align: right;\">                                        0.000</td><td style=\"text-align: right;\">                           0.030</td><td style=\"text-align: right;\">                                               0.362</td><td style=\"text-align: right;\">                   0.000</td><td style=\"text-align: right;\">                       0.083</td><td style=\"text-align: right;\">                                               0.207</td><td style=\"text-align: right;\">                                         0.044</td><td style=\"text-align: right;\">                                          0.041</td><td style=\"text-align: right;\">                                               0.011</td><td style=\"text-align: right;\">                                               0.006</td><td style=\"text-align: right;\">                           0.000</td><td style=\"text-align: right;\">                                               0.028</td><td style=\"text-align: right;\">             0.000</td><td style=\"text-align: right;\">                                               0.000</td><td style=\"text-align: right;\">                                 0.000</td><td style=\"text-align: right;\">                                     0.022</td><td style=\"text-align: right;\">                                               0.013</td><td style=\"text-align: right;\">                         0.005</td><td style=\"text-align: right;\">                                            0.000</td><td style=\"text-align: right;\">                                               0.006</td><td style=\"text-align: right;\">                                               0.000</td><td style=\"text-align: right;\">                                        0.006</td><td style=\"text-align: right;\">                 0.001</td><td style=\"text-align: right;\">                    0.000</td><td style=\"text-align: right;\">                                               0.000</td><td style=\"text-align: right;\">                                               0.003</td><td style=\"text-align: right;\">                                               0.002</td><td style=\"text-align: right;\">                         0.000</td><td style=\"text-align: right;\">                                               0.001</td><td style=\"text-align: right;\">                          0.000</td><td style=\"text-align: right;\">                                             0.000</td><td style=\"text-align: right;\">                                             0.001</td><td style=\"text-align: right;\">                0.000</td><td style=\"text-align: right;\">                 0.000</td><td style=\"text-align: right;\">                      0.000</td><td style=\"text-align: right;\">                                               0.000</td><td style=\"text-align: right;\">                                  0.000</td><td style=\"text-align: right;\">                                               0.000</td><td style=\"text-align: right;\">                       0.000</td><td style=\"text-align: right;\">                                               0.000</td><td style=\"text-align: right;\">                0.000</td><td style=\"text-align: right;\">                                               0.000</td><td style=\"text-align: right;\">                                               0.000</td><td style=\"text-align: right;\">                                               0.000</td><td style=\"text-align: right;\">                                     0.000</td><td style=\"text-align: right;\">                                               0.000</td><td style=\"text-align: right;\">                   0.000</td><td style=\"text-align: right;\">                 0.000</td><td style=\"text-align: right;\">                                               0.000</td><td style=\"text-align: right;\">                                       0.000</td><td style=\"text-align: right;\">                                               0.000</td><td style=\"text-align: right;\">                                               0.000</td><td style=\"text-align: right;\">                                               0.000</td></tr>\n",
       "<tr><td>bottle grade          </td><td>bottle grade          </td><td>RoW                      </td><td>kilogram</td><td style=\"text-align: right;\">  2.838</td><td style=\"text-align: right;\">                     0.141</td><td style=\"text-align: right;\">                                        0.000</td><td style=\"text-align: right;\">                           0.029</td><td style=\"text-align: right;\">                                               0.350</td><td style=\"text-align: right;\">                   0.000</td><td style=\"text-align: right;\">                       0.083</td><td style=\"text-align: right;\">                                               0.201</td><td style=\"text-align: right;\">                                         0.045</td><td style=\"text-align: right;\">                                          0.040</td><td style=\"text-align: right;\">                                               0.010</td><td style=\"text-align: right;\">                                               0.006</td><td style=\"text-align: right;\">                           0.000</td><td style=\"text-align: right;\">                                               0.027</td><td style=\"text-align: right;\">             0.000</td><td style=\"text-align: right;\">                                               0.000</td><td style=\"text-align: right;\">                                 0.000</td><td style=\"text-align: right;\">                                     0.022</td><td style=\"text-align: right;\">                                               0.014</td><td style=\"text-align: right;\">                         0.005</td><td style=\"text-align: right;\">                                            0.000</td><td style=\"text-align: right;\">                                               0.008</td><td style=\"text-align: right;\">                                               0.000</td><td style=\"text-align: right;\">                                        0.006</td><td style=\"text-align: right;\">                 0.001</td><td style=\"text-align: right;\">                    0.000</td><td style=\"text-align: right;\">                                               0.000</td><td style=\"text-align: right;\">                                               0.003</td><td style=\"text-align: right;\">                                               0.002</td><td style=\"text-align: right;\">                         0.000</td><td style=\"text-align: right;\">                                               0.001</td><td style=\"text-align: right;\">                          0.000</td><td style=\"text-align: right;\">                                             0.000</td><td style=\"text-align: right;\">                                             0.000</td><td style=\"text-align: right;\">                0.000</td><td style=\"text-align: right;\">                 0.000</td><td style=\"text-align: right;\">                      0.000</td><td style=\"text-align: right;\">                                               0.000</td><td style=\"text-align: right;\">                                  0.000</td><td style=\"text-align: right;\">                                               0.000</td><td style=\"text-align: right;\">                       0.000</td><td style=\"text-align: right;\">                                               0.000</td><td style=\"text-align: right;\">                0.000</td><td style=\"text-align: right;\">                                               0.000</td><td style=\"text-align: right;\">                                               0.000</td><td style=\"text-align: right;\">                                               0.000</td><td style=\"text-align: right;\">                                     0.000</td><td style=\"text-align: right;\">                                               0.000</td><td style=\"text-align: right;\">                   0.000</td><td style=\"text-align: right;\">                 0.000</td><td style=\"text-align: right;\">                                               0.000</td><td style=\"text-align: right;\">                                       0.000</td><td style=\"text-align: right;\">                                               0.000</td><td style=\"text-align: right;\">                                               0.000</td><td style=\"text-align: right;\">                                               0.000</td></tr>\n",
       "<tr><td>amorphous             </td><td>amorphous             </td><td>CA-QC                    </td><td>kilogram</td><td style=\"text-align: right;\">  2.943</td><td style=\"text-align: right;\">                     0.086</td><td style=\"text-align: right;\">                                        0.000</td><td style=\"text-align: right;\">                           0.028</td><td style=\"text-align: right;\">                                               0.343</td><td style=\"text-align: right;\">                   0.000</td><td style=\"text-align: right;\">                       0.211</td><td style=\"text-align: right;\">                                               0.190</td><td style=\"text-align: right;\">                                         0.043</td><td style=\"text-align: right;\">                                          0.000</td><td style=\"text-align: right;\">                                               0.002</td><td style=\"text-align: right;\">                                               0.005</td><td style=\"text-align: right;\">                           0.000</td><td style=\"text-align: right;\">                                               0.027</td><td style=\"text-align: right;\">             0.000</td><td style=\"text-align: right;\">                                               0.000</td><td style=\"text-align: right;\">                                 0.000</td><td style=\"text-align: right;\">                                     0.021</td><td style=\"text-align: right;\">                                               0.011</td><td style=\"text-align: right;\">                         0.004</td><td style=\"text-align: right;\">                                            0.000</td><td style=\"text-align: right;\">                                               0.008</td><td style=\"text-align: right;\">                                               0.000</td><td style=\"text-align: right;\">                                        0.006</td><td style=\"text-align: right;\">                 0.001</td><td style=\"text-align: right;\">                    0.000</td><td style=\"text-align: right;\">                                               0.000</td><td style=\"text-align: right;\">                                               0.003</td><td style=\"text-align: right;\">                                               0.002</td><td style=\"text-align: right;\">                         0.000</td><td style=\"text-align: right;\">                                               0.000</td><td style=\"text-align: right;\">                          0.000</td><td style=\"text-align: right;\">                                             0.000</td><td style=\"text-align: right;\">                                             0.000</td><td style=\"text-align: right;\">                0.000</td><td style=\"text-align: right;\">                 0.000</td><td style=\"text-align: right;\">                      0.000</td><td style=\"text-align: right;\">                                               0.000</td><td style=\"text-align: right;\">                                  0.000</td><td style=\"text-align: right;\">                                               0.000</td><td style=\"text-align: right;\">                       0.000</td><td style=\"text-align: right;\">                                               0.000</td><td style=\"text-align: right;\">                0.000</td><td style=\"text-align: right;\">                                               0.000</td><td style=\"text-align: right;\">                                               0.000</td><td style=\"text-align: right;\">                                               0.000</td><td style=\"text-align: right;\">                                     0.000</td><td style=\"text-align: right;\">                                               0.000</td><td style=\"text-align: right;\">                   0.000</td><td style=\"text-align: right;\">                 0.000</td><td style=\"text-align: right;\">                                               0.000</td><td style=\"text-align: right;\">                                       0.000</td><td style=\"text-align: right;\">                                               0.000</td><td style=\"text-align: right;\">                                               0.000</td><td style=\"text-align: right;\">                                               0.000</td></tr>\n",
       "<tr><td>amorphous             </td><td>amorphous             </td><td>RER                      </td><td>kilogram</td><td style=\"text-align: right;\">  2.944</td><td style=\"text-align: right;\">                     0.111</td><td style=\"text-align: right;\">                                        0.001</td><td style=\"text-align: right;\">                           0.028</td><td style=\"text-align: right;\">                                               0.342</td><td style=\"text-align: right;\">                   0.000</td><td style=\"text-align: right;\">                       0.189</td><td style=\"text-align: right;\">                                               0.190</td><td style=\"text-align: right;\">                                         0.041</td><td style=\"text-align: right;\">                                          0.000</td><td style=\"text-align: right;\">                                               0.002</td><td style=\"text-align: right;\">                                               0.005</td><td style=\"text-align: right;\">                           0.000</td><td style=\"text-align: right;\">                                               0.027</td><td style=\"text-align: right;\">             0.000</td><td style=\"text-align: right;\">                                               0.000</td><td style=\"text-align: right;\">                                 0.000</td><td style=\"text-align: right;\">                                     0.021</td><td style=\"text-align: right;\">                                               0.011</td><td style=\"text-align: right;\">                         0.004</td><td style=\"text-align: right;\">                                            0.000</td><td style=\"text-align: right;\">                                               0.006</td><td style=\"text-align: right;\">                                               0.000</td><td style=\"text-align: right;\">                                        0.006</td><td style=\"text-align: right;\">                 0.001</td><td style=\"text-align: right;\">                    0.000</td><td style=\"text-align: right;\">                                               0.000</td><td style=\"text-align: right;\">                                               0.003</td><td style=\"text-align: right;\">                                               0.002</td><td style=\"text-align: right;\">                         0.000</td><td style=\"text-align: right;\">                                               0.000</td><td style=\"text-align: right;\">                          0.000</td><td style=\"text-align: right;\">                                             0.000</td><td style=\"text-align: right;\">                                             0.000</td><td style=\"text-align: right;\">                0.000</td><td style=\"text-align: right;\">                 0.000</td><td style=\"text-align: right;\">                      0.000</td><td style=\"text-align: right;\">                                               0.000</td><td style=\"text-align: right;\">                                  0.000</td><td style=\"text-align: right;\">                                               0.000</td><td style=\"text-align: right;\">                       0.000</td><td style=\"text-align: right;\">                                               0.000</td><td style=\"text-align: right;\">                0.000</td><td style=\"text-align: right;\">                                               0.000</td><td style=\"text-align: right;\">                                               0.000</td><td style=\"text-align: right;\">                                               0.000</td><td style=\"text-align: right;\">                                     0.000</td><td style=\"text-align: right;\">                                               0.000</td><td style=\"text-align: right;\">                   0.000</td><td style=\"text-align: right;\">                 0.000</td><td style=\"text-align: right;\">                                               0.000</td><td style=\"text-align: right;\">                                       0.000</td><td style=\"text-align: right;\">                                               0.000</td><td style=\"text-align: right;\">                                               0.000</td><td style=\"text-align: right;\">                                               0.000</td></tr>\n",
       "<tr><td>amorphous             </td><td>amorphous             </td><td>RoW                      </td><td>kilogram</td><td style=\"text-align: right;\">  3.105</td><td style=\"text-align: right;\">                     0.129</td><td style=\"text-align: right;\">                                        0.000</td><td style=\"text-align: right;\">                           0.027</td><td style=\"text-align: right;\">                                               0.325</td><td style=\"text-align: right;\">                   0.000</td><td style=\"text-align: right;\">                       0.200</td><td style=\"text-align: right;\">                                               0.180</td><td style=\"text-align: right;\">                                         0.041</td><td style=\"text-align: right;\">                                          0.000</td><td style=\"text-align: right;\">                                               0.002</td><td style=\"text-align: right;\">                                               0.005</td><td style=\"text-align: right;\">                           0.000</td><td style=\"text-align: right;\">                                               0.025</td><td style=\"text-align: right;\">             0.004</td><td style=\"text-align: right;\">                                               0.000</td><td style=\"text-align: right;\">                                 0.000</td><td style=\"text-align: right;\">                                     0.020</td><td style=\"text-align: right;\">                                               0.010</td><td style=\"text-align: right;\">                         0.004</td><td style=\"text-align: right;\">                                            0.000</td><td style=\"text-align: right;\">                                               0.008</td><td style=\"text-align: right;\">                                               0.000</td><td style=\"text-align: right;\">                                        0.006</td><td style=\"text-align: right;\">                 0.001</td><td style=\"text-align: right;\">                    0.000</td><td style=\"text-align: right;\">                                               0.000</td><td style=\"text-align: right;\">                                               0.003</td><td style=\"text-align: right;\">                                               0.002</td><td style=\"text-align: right;\">                         0.000</td><td style=\"text-align: right;\">                                               0.000</td><td style=\"text-align: right;\">                          0.000</td><td style=\"text-align: right;\">                                             0.000</td><td style=\"text-align: right;\">                                             0.000</td><td style=\"text-align: right;\">                0.000</td><td style=\"text-align: right;\">                 0.000</td><td style=\"text-align: right;\">                      0.000</td><td style=\"text-align: right;\">                                               0.000</td><td style=\"text-align: right;\">                                  0.000</td><td style=\"text-align: right;\">                                               0.000</td><td style=\"text-align: right;\">                       0.000</td><td style=\"text-align: right;\">                                               0.000</td><td style=\"text-align: right;\">                0.000</td><td style=\"text-align: right;\">                                               0.000</td><td style=\"text-align: right;\">                                               0.000</td><td style=\"text-align: right;\">                                               0.000</td><td style=\"text-align: right;\">                                     0.000</td><td style=\"text-align: right;\">                                               0.000</td><td style=\"text-align: right;\">                   0.000</td><td style=\"text-align: right;\">                 0.000</td><td style=\"text-align: right;\">                                               0.000</td><td style=\"text-align: right;\">                                       0.000</td><td style=\"text-align: right;\">                                               0.000</td><td style=\"text-align: right;\">                                               0.000</td><td style=\"text-align: right;\">                                               0.000</td></tr>\n",
       "<tr><td>bottle grade          </td><td>bottle grade          </td><td>CA-QC                    </td><td>kilogram</td><td style=\"text-align: right;\">  3.164</td><td style=\"text-align: right;\">                     0.049</td><td style=\"text-align: right;\">                                        0.000</td><td style=\"text-align: right;\">                           0.451</td><td style=\"text-align: right;\">                                               0.057</td><td style=\"text-align: right;\">                   0.000</td><td style=\"text-align: right;\">                       0.145</td><td style=\"text-align: right;\">                                               0.207</td><td style=\"text-align: right;\">                                         0.037</td><td style=\"text-align: right;\">                                          0.004</td><td style=\"text-align: right;\">                                               0.000</td><td style=\"text-align: right;\">                                               0.001</td><td style=\"text-align: right;\">                           0.000</td><td style=\"text-align: right;\">                                               0.004</td><td style=\"text-align: right;\">             0.000</td><td style=\"text-align: right;\">                                               0.000</td><td style=\"text-align: right;\">                                 0.000</td><td style=\"text-align: right;\">                                     0.019</td><td style=\"text-align: right;\">                                               0.002</td><td style=\"text-align: right;\">                         0.001</td><td style=\"text-align: right;\">                                            0.000</td><td style=\"text-align: right;\">                                               0.008</td><td style=\"text-align: right;\">                                               0.000</td><td style=\"text-align: right;\">                                        0.005</td><td style=\"text-align: right;\">                 0.000</td><td style=\"text-align: right;\">                    0.000</td><td style=\"text-align: right;\">                                               0.000</td><td style=\"text-align: right;\">                                               0.000</td><td style=\"text-align: right;\">                                               0.002</td><td style=\"text-align: right;\">                         0.000</td><td style=\"text-align: right;\">                                               0.000</td><td style=\"text-align: right;\">                          0.000</td><td style=\"text-align: right;\">                                             0.000</td><td style=\"text-align: right;\">                                             0.000</td><td style=\"text-align: right;\">                0.000</td><td style=\"text-align: right;\">                 0.000</td><td style=\"text-align: right;\">                      0.000</td><td style=\"text-align: right;\">                                               0.000</td><td style=\"text-align: right;\">                                  0.000</td><td style=\"text-align: right;\">                                               0.000</td><td style=\"text-align: right;\">                       0.000</td><td style=\"text-align: right;\">                                               0.000</td><td style=\"text-align: right;\">                0.000</td><td style=\"text-align: right;\">                                               0.000</td><td style=\"text-align: right;\">                                               0.000</td><td style=\"text-align: right;\">                                               0.000</td><td style=\"text-align: right;\">                                     0.000</td><td style=\"text-align: right;\">                                               0.000</td><td style=\"text-align: right;\">                   0.000</td><td style=\"text-align: right;\">                 0.000</td><td style=\"text-align: right;\">                                               0.000</td><td style=\"text-align: right;\">                                       0.000</td><td style=\"text-align: right;\">                                               0.000</td><td style=\"text-align: right;\">                                               0.000</td><td style=\"text-align: right;\">                                               0.000</td></tr>\n",
       "</tbody>\n",
       "</table>"
      ],
      "text/plain": [
       "'<table>\\n<thead>\\n<tr><th>activity              </th><th>product               </th><th>location                 </th><th>unit    </th><th style=\"text-align: right;\">  total</th><th style=\"text-align: right;\">  17100: Electrical energy</th><th style=\"text-align: right;\">  39270: Waste, parings and scrap of plastics</th><th style=\"text-align: right;\">  347: Plastics in primary forms</th><th style=\"text-align: right;\">  34110: Hydrocarbons and their halogenated, sulphon</th><th style=\"text-align: right;\">  39910: Municipal waste</th><th style=\"text-align: right;\">  17300: Steam and hot water</th><th style=\"text-align: right;\">  34170: Ethers, alcohol peroxides, ether peroxides,</th><th style=\"text-align: right;\">  53269: Other constructions for manufacturing</th><th style=\"text-align: right;\">  34710: Polymers of ethylene, in primary forms</th><th style=\"text-align: right;\">  12020: Natural gas, liquefied or in the gaseous st</th><th style=\"text-align: right;\">  34231: Chemical elements n.e.c.; inorganic acids e</th><th style=\"text-align: right;\">  543: Site preparation services</th><th style=\"text-align: right;\">  34120: Industrial monocarboxylic fatty acids; acid</th><th style=\"text-align: right;\">  11010: Hard coal</th><th style=\"text-align: right;\">  41122: Alloy steel in ingots or other primary form</th><th style=\"text-align: right;\">  53290: Other civil engineering works</th><th style=\"text-align: right;\">  6511: Road transport services of freight</th><th style=\"text-align: right;\">  34250: Salts of oxometallic or peroxometallic acid</th><th style=\"text-align: right;\">  341: Basic organic chemicals</th><th style=\"text-align: right;\">  16200: Salt and pure sodium chloride; sea water</th><th style=\"text-align: right;\">  34210: Hydrogen, nitrogen, oxygen, carbon dioxide </th><th style=\"text-align: right;\">  89330: Metal forging, pressing, stamping, roll for</th><th style=\"text-align: right;\">  6512: Railway transport services of freight</th><th style=\"text-align: right;\">  39920: Sewage sludge</th><th style=\"text-align: right;\">  33370: Fuel oils n.e.c.</th><th style=\"text-align: right;\">  35321: Soap; organic surface-active products and p</th><th style=\"text-align: right;\">  41601: Tungsten, molybdenum, tantalum, magnesium, </th><th style=\"text-align: right;\">  65213: Coastal and transoceanic water transport se</th><th style=\"text-align: right;\">  532: Civil engineering works</th><th style=\"text-align: right;\">  41603: Bismuth, antimony, manganese, chromium and </th><th style=\"text-align: right;\">  374: Plaster, lime and cement</th><th style=\"text-align: right;\">  37420: Quicklime, slaked lime and hydraulic lime</th><th style=\"text-align: right;\">  39950: Wastes from chemical or allied industries</th><th style=\"text-align: right;\">  34: Basic chemicals</th><th style=\"text-align: right;\">  39: Wastes or scraps</th><th style=\"text-align: right;\">  34651: Ammonia, anhydrous</th><th style=\"text-align: right;\">  34240: Phosphates of triammonium; salts and peroxy</th><th style=\"text-align: right;\">  342: Basic inorganic chemicals n.e.c.</th><th style=\"text-align: right;\">  43420: Industrial or laboratory furnaces and ovens</th><th style=\"text-align: right;\">  39990: Other wastes n.e.c.</th><th style=\"text-align: right;\">  34280: Hydrogen peroxide; phosphides; carbides; hy</th><th style=\"text-align: right;\">  53262: Power plants</th><th style=\"text-align: right;\">  65229: Other inland water transport services of fr</th><th style=\"text-align: right;\">  89200: Moulding, pressing, stamping, extruding and</th><th style=\"text-align: right;\">  14290: Other non-ferrous metal ores and concentrat</th><th style=\"text-align: right;\">  53253: Sewage and water treatment plants</th><th style=\"text-align: right;\">  42210: Reservoirs, tanks, vats and similar contain</th><th style=\"text-align: right;\">  34232: Phosphoric acid</th><th style=\"text-align: right;\">  18000: Natural water</th><th style=\"text-align: right;\">  4160: Other non-ferrous metals and articles thereo</th><th style=\"text-align: right;\">  54330: Excavating and earthmoving services</th><th style=\"text-align: right;\">  34220: Zinc oxide; zinc peroxide; chromium oxides </th><th style=\"text-align: right;\">  34790: Other plastics in primary forms; ion exchan</th><th style=\"text-align: right;\">  94231: General waste collection services, resident</th></tr>\\n</thead>\\n<tbody>\\n<tr><td>amorphous, recycled   </td><td>amorphous, recycled   </td><td>CH                       </td><td>kilogram</td><td style=\"text-align: right;\">  0.397</td><td style=\"text-align: right;\">                     0.123</td><td style=\"text-align: right;\">                                        0.465</td><td style=\"text-align: right;\">                           0.000</td><td style=\"text-align: right;\">                                               0.000</td><td style=\"text-align: right;\">                   0.221</td><td style=\"text-align: right;\">                       0.068</td><td style=\"text-align: right;\">                                               0.000</td><td style=\"text-align: right;\">                                         0.000</td><td style=\"text-align: right;\">                                          0.000</td><td style=\"text-align: right;\">                                               0.000</td><td style=\"text-align: right;\">                                               0.009</td><td style=\"text-align: right;\">                           0.033</td><td style=\"text-align: right;\">                                               0.000</td><td style=\"text-align: right;\">             0.000</td><td style=\"text-align: right;\">                                               0.025</td><td style=\"text-align: right;\">                                 0.023</td><td style=\"text-align: right;\">                                    -0.000</td><td style=\"text-align: right;\">                                               0.000</td><td style=\"text-align: right;\">                         0.006</td><td style=\"text-align: right;\">                                            0.000</td><td style=\"text-align: right;\">                                               0.000</td><td style=\"text-align: right;\">                                               0.006</td><td style=\"text-align: right;\">                                        0.000</td><td style=\"text-align: right;\">                 0.004</td><td style=\"text-align: right;\">                    0.005</td><td style=\"text-align: right;\">                                               0.004</td><td style=\"text-align: right;\">                                               0.000</td><td style=\"text-align: right;\">                                               0.000</td><td style=\"text-align: right;\">                         0.002</td><td style=\"text-align: right;\">                                               0.000</td><td style=\"text-align: right;\">                          0.001</td><td style=\"text-align: right;\">                                             0.001</td><td style=\"text-align: right;\">                                             0.000</td><td style=\"text-align: right;\">                0.000</td><td style=\"text-align: right;\">                 0.000</td><td style=\"text-align: right;\">                      0.000</td><td style=\"text-align: right;\">                                               0.000</td><td style=\"text-align: right;\">                                  0.000</td><td style=\"text-align: right;\">                                               0.000</td><td style=\"text-align: right;\">                       0.000</td><td style=\"text-align: right;\">                                               0.000</td><td style=\"text-align: right;\">                0.000</td><td style=\"text-align: right;\">                                               0.000</td><td style=\"text-align: right;\">                                               0.000</td><td style=\"text-align: right;\">                                               0.000</td><td style=\"text-align: right;\">                                     0.000</td><td style=\"text-align: right;\">                                               0.000</td><td style=\"text-align: right;\">                   0.000</td><td style=\"text-align: right;\">                 0.000</td><td style=\"text-align: right;\">                                               0.000</td><td style=\"text-align: right;\">                                       0.000</td><td style=\"text-align: right;\">                                               0.000</td><td style=\"text-align: right;\">                                               0.000</td><td style=\"text-align: right;\">                                              -0.001</td></tr>\\n<tr><td>bottle grade, recycled</td><td>bottle grade, recycled</td><td>CH                       </td><td>kilogram</td><td style=\"text-align: right;\">  0.438</td><td style=\"text-align: right;\">                     0.141</td><td style=\"text-align: right;\">                                        0.421</td><td style=\"text-align: right;\">                           0.000</td><td style=\"text-align: right;\">                                               0.000</td><td style=\"text-align: right;\">                   0.242</td><td style=\"text-align: right;\">                       0.050</td><td style=\"text-align: right;\">                                               0.000</td><td style=\"text-align: right;\">                                         0.001</td><td style=\"text-align: right;\">                                          0.000</td><td style=\"text-align: right;\">                                               0.000</td><td style=\"text-align: right;\">                                               0.033</td><td style=\"text-align: right;\">                           0.030</td><td style=\"text-align: right;\">                                               0.000</td><td style=\"text-align: right;\">             0.000</td><td style=\"text-align: right;\">                                               0.023</td><td style=\"text-align: right;\">                                 0.021</td><td style=\"text-align: right;\">                                     0.002</td><td style=\"text-align: right;\">                                               0.000</td><td style=\"text-align: right;\">                         0.002</td><td style=\"text-align: right;\">                                            0.010</td><td style=\"text-align: right;\">                                               0.000</td><td style=\"text-align: right;\">                                               0.006</td><td style=\"text-align: right;\">                                        0.001</td><td style=\"text-align: right;\">                 0.005</td><td style=\"text-align: right;\">                    0.000</td><td style=\"text-align: right;\">                                               0.001</td><td style=\"text-align: right;\">                                               0.000</td><td style=\"text-align: right;\">                                               0.000</td><td style=\"text-align: right;\">                         0.002</td><td style=\"text-align: right;\">                                               0.000</td><td style=\"text-align: right;\">                          0.001</td><td style=\"text-align: right;\">                                             0.001</td><td style=\"text-align: right;\">                                             0.000</td><td style=\"text-align: right;\">                0.001</td><td style=\"text-align: right;\">                 0.000</td><td style=\"text-align: right;\">                      0.000</td><td style=\"text-align: right;\">                                               0.000</td><td style=\"text-align: right;\">                                  0.000</td><td style=\"text-align: right;\">                                               0.000</td><td style=\"text-align: right;\">                       0.000</td><td style=\"text-align: right;\">                                               0.000</td><td style=\"text-align: right;\">                0.000</td><td style=\"text-align: right;\">                                               0.000</td><td style=\"text-align: right;\">                                               0.000</td><td style=\"text-align: right;\">                                               0.000</td><td style=\"text-align: right;\">                                     0.000</td><td style=\"text-align: right;\">                                               0.000</td><td style=\"text-align: right;\">                   0.000</td><td style=\"text-align: right;\">                 0.000</td><td style=\"text-align: right;\">                                               0.000</td><td style=\"text-align: right;\">                                       0.000</td><td style=\"text-align: right;\">                                               0.000</td><td style=\"text-align: right;\">                                               0.000</td><td style=\"text-align: right;\">                                              -0.001</td></tr>\\n<tr><td>bottle grade, recycled</td><td>bottle grade, recycled</td><td>RoW                      </td><td>kilogram</td><td style=\"text-align: right;\">  1.013</td><td style=\"text-align: right;\">                     0.284</td><td style=\"text-align: right;\">                                        0.240</td><td style=\"text-align: right;\">                           0.000</td><td style=\"text-align: right;\">                                               0.000</td><td style=\"text-align: right;\">                   0.047</td><td style=\"text-align: right;\">                       0.218</td><td style=\"text-align: right;\">                                               0.000</td><td style=\"text-align: right;\">                                         0.001</td><td style=\"text-align: right;\">                                          0.000</td><td style=\"text-align: right;\">                                               0.000</td><td style=\"text-align: right;\">                                               0.015</td><td style=\"text-align: right;\">                           0.007</td><td style=\"text-align: right;\">                                               0.000</td><td style=\"text-align: right;\">             0.027</td><td style=\"text-align: right;\">                                               0.013</td><td style=\"text-align: right;\">                                 0.009</td><td style=\"text-align: right;\">                                     0.001</td><td style=\"text-align: right;\">                                               0.000</td><td style=\"text-align: right;\">                         0.001</td><td style=\"text-align: right;\">                                            0.004</td><td style=\"text-align: right;\">                                               0.000</td><td style=\"text-align: right;\">                                               0.003</td><td style=\"text-align: right;\">                                        0.000</td><td style=\"text-align: right;\">                 0.003</td><td style=\"text-align: right;\">                    0.000</td><td style=\"text-align: right;\">                                               0.000</td><td style=\"text-align: right;\">                                               0.000</td><td style=\"text-align: right;\">                                               0.000</td><td style=\"text-align: right;\">                         0.000</td><td style=\"text-align: right;\">                                               0.000</td><td style=\"text-align: right;\">                          0.000</td><td style=\"text-align: right;\">                                             0.000</td><td style=\"text-align: right;\">                                             0.000</td><td style=\"text-align: right;\">                0.000</td><td style=\"text-align: right;\">                 0.000</td><td style=\"text-align: right;\">                      0.000</td><td style=\"text-align: right;\">                                               0.000</td><td style=\"text-align: right;\">                                  0.000</td><td style=\"text-align: right;\">                                               0.000</td><td style=\"text-align: right;\">                       0.000</td><td style=\"text-align: right;\">                                               0.000</td><td style=\"text-align: right;\">                0.000</td><td style=\"text-align: right;\">                                               0.000</td><td style=\"text-align: right;\">                                               0.000</td><td style=\"text-align: right;\">                                               0.000</td><td style=\"text-align: right;\">                                     0.000</td><td style=\"text-align: right;\">                                               0.000</td><td style=\"text-align: right;\">                   0.000</td><td style=\"text-align: right;\">                 0.000</td><td style=\"text-align: right;\">                                               0.000</td><td style=\"text-align: right;\">                                       0.000</td><td style=\"text-align: right;\">                                               0.000</td><td style=\"text-align: right;\">                                               0.000</td><td style=\"text-align: right;\">                                               0.000</td></tr>\\n<tr><td>amorphous, recycled   </td><td>amorphous, recycled   </td><td>Europe without Switzerlan</td><td>kilogram</td><td style=\"text-align: right;\">  1.093</td><td style=\"text-align: right;\">                     0.368</td><td style=\"text-align: right;\">                                        0.225</td><td style=\"text-align: right;\">                           0.000</td><td style=\"text-align: right;\">                                               0.000</td><td style=\"text-align: right;\">                  -0.062</td><td style=\"text-align: right;\">                       0.112</td><td style=\"text-align: right;\">                                               0.000</td><td style=\"text-align: right;\">                                         0.000</td><td style=\"text-align: right;\">                                          0.000</td><td style=\"text-align: right;\">                                               0.013</td><td style=\"text-align: right;\">                                               0.027</td><td style=\"text-align: right;\">                           0.008</td><td style=\"text-align: right;\">                                               0.000</td><td style=\"text-align: right;\">             0.000</td><td style=\"text-align: right;\">                                               0.013</td><td style=\"text-align: right;\">                                 0.008</td><td style=\"text-align: right;\">                                     0.001</td><td style=\"text-align: right;\">                                               0.000</td><td style=\"text-align: right;\">                         0.012</td><td style=\"text-align: right;\">                                            0.000</td><td style=\"text-align: right;\">                                               0.000</td><td style=\"text-align: right;\">                                               0.003</td><td style=\"text-align: right;\">                                        0.000</td><td style=\"text-align: right;\">                 0.000</td><td style=\"text-align: right;\">                    0.000</td><td style=\"text-align: right;\">                                               0.000</td><td style=\"text-align: right;\">                                               0.000</td><td style=\"text-align: right;\">                                               0.000</td><td style=\"text-align: right;\">                         0.001</td><td style=\"text-align: right;\">                                               0.000</td><td style=\"text-align: right;\">                          0.000</td><td style=\"text-align: right;\">                                             0.000</td><td style=\"text-align: right;\">                                             0.000</td><td style=\"text-align: right;\">                0.000</td><td style=\"text-align: right;\">                 0.000</td><td style=\"text-align: right;\">                      0.000</td><td style=\"text-align: right;\">                                               0.000</td><td style=\"text-align: right;\">                                  0.000</td><td style=\"text-align: right;\">                                               0.000</td><td style=\"text-align: right;\">                       0.000</td><td style=\"text-align: right;\">                                               0.000</td><td style=\"text-align: right;\">                0.000</td><td style=\"text-align: right;\">                                               0.000</td><td style=\"text-align: right;\">                                               0.000</td><td style=\"text-align: right;\">                                               0.000</td><td style=\"text-align: right;\">                                     0.000</td><td style=\"text-align: right;\">                                               0.000</td><td style=\"text-align: right;\">                   0.000</td><td style=\"text-align: right;\">                 0.000</td><td style=\"text-align: right;\">                                               0.000</td><td style=\"text-align: right;\">                                       0.000</td><td style=\"text-align: right;\">                                               0.000</td><td style=\"text-align: right;\">                                               0.000</td><td style=\"text-align: right;\">                                               0.000</td></tr>\\n<tr><td>amorphous, recycled   </td><td>amorphous, recycled   </td><td>US                       </td><td>kilogram</td><td style=\"text-align: right;\">  1.271</td><td style=\"text-align: right;\">                     0.417</td><td style=\"text-align: right;\">                                        0.182</td><td style=\"text-align: right;\">                           0.000</td><td style=\"text-align: right;\">                                               0.000</td><td style=\"text-align: right;\">                   0.080</td><td style=\"text-align: right;\">                       0.073</td><td style=\"text-align: right;\">                                               0.000</td><td style=\"text-align: right;\">                                         0.000</td><td style=\"text-align: right;\">                                          0.000</td><td style=\"text-align: right;\">                                               0.007</td><td style=\"text-align: right;\">                                               0.024</td><td style=\"text-align: right;\">                           0.007</td><td style=\"text-align: right;\">                                               0.000</td><td style=\"text-align: right;\">             0.000</td><td style=\"text-align: right;\">                                               0.011</td><td style=\"text-align: right;\">                                 0.007</td><td style=\"text-align: right;\">                                    -0.000</td><td style=\"text-align: right;\">                                               0.000</td><td style=\"text-align: right;\">                         0.011</td><td style=\"text-align: right;\">                                            0.000</td><td style=\"text-align: right;\">                                               0.000</td><td style=\"text-align: right;\">                                               0.003</td><td style=\"text-align: right;\">                                       -0.000</td><td style=\"text-align: right;\">                 0.000</td><td style=\"text-align: right;\">                    0.000</td><td style=\"text-align: right;\">                                               0.000</td><td style=\"text-align: right;\">                                               0.000</td><td style=\"text-align: right;\">                                               0.000</td><td style=\"text-align: right;\">                         0.001</td><td style=\"text-align: right;\">                                               0.000</td><td style=\"text-align: right;\">                          0.000</td><td style=\"text-align: right;\">                                             0.000</td><td style=\"text-align: right;\">                                             0.000</td><td style=\"text-align: right;\">                0.000</td><td style=\"text-align: right;\">                 0.000</td><td style=\"text-align: right;\">                      0.000</td><td style=\"text-align: right;\">                                               0.000</td><td style=\"text-align: right;\">                                  0.000</td><td style=\"text-align: right;\">                                               0.000</td><td style=\"text-align: right;\">                       0.000</td><td style=\"text-align: right;\">                                               0.000</td><td style=\"text-align: right;\">                0.000</td><td style=\"text-align: right;\">                                               0.000</td><td style=\"text-align: right;\">                                               0.000</td><td style=\"text-align: right;\">                                               0.000</td><td style=\"text-align: right;\">                                     0.000</td><td style=\"text-align: right;\">                                               0.000</td><td style=\"text-align: right;\">                   0.000</td><td style=\"text-align: right;\">                 0.000</td><td style=\"text-align: right;\">                                               0.000</td><td style=\"text-align: right;\">                                       0.000</td><td style=\"text-align: right;\">                                               0.000</td><td style=\"text-align: right;\">                                               0.000</td><td style=\"text-align: right;\">                                               0.000</td></tr>\\n<tr><td>amorphous, recycled   </td><td>amorphous, recycled   </td><td>RoW                      </td><td>kilogram</td><td style=\"text-align: right;\">  1.588</td><td style=\"text-align: right;\">                     0.541</td><td style=\"text-align: right;\">                                        0.141</td><td style=\"text-align: right;\">                           0.000</td><td style=\"text-align: right;\">                                               0.000</td><td style=\"text-align: right;\">                   0.073</td><td style=\"text-align: right;\">                       0.079</td><td style=\"text-align: right;\">                                               0.000</td><td style=\"text-align: right;\">                                         0.000</td><td style=\"text-align: right;\">                                          0.000</td><td style=\"text-align: right;\">                                               0.037</td><td style=\"text-align: right;\">                                               0.019</td><td style=\"text-align: right;\">                           0.005</td><td style=\"text-align: right;\">                                               0.000</td><td style=\"text-align: right;\">             0.000</td><td style=\"text-align: right;\">                                               0.009</td><td style=\"text-align: right;\">                                 0.006</td><td style=\"text-align: right;\">                                    -0.001</td><td style=\"text-align: right;\">                                               0.000</td><td style=\"text-align: right;\">                         0.008</td><td style=\"text-align: right;\">                                            0.000</td><td style=\"text-align: right;\">                                               0.000</td><td style=\"text-align: right;\">                                               0.003</td><td style=\"text-align: right;\">                                        0.000</td><td style=\"text-align: right;\">                 0.000</td><td style=\"text-align: right;\">                    0.000</td><td style=\"text-align: right;\">                                               0.000</td><td style=\"text-align: right;\">                                               0.000</td><td style=\"text-align: right;\">                                               0.000</td><td style=\"text-align: right;\">                         0.000</td><td style=\"text-align: right;\">                                               0.000</td><td style=\"text-align: right;\">                          0.000</td><td style=\"text-align: right;\">                                             0.000</td><td style=\"text-align: right;\">                                             0.000</td><td style=\"text-align: right;\">                0.000</td><td style=\"text-align: right;\">                 0.000</td><td style=\"text-align: right;\">                      0.000</td><td style=\"text-align: right;\">                                               0.000</td><td style=\"text-align: right;\">                                  0.000</td><td style=\"text-align: right;\">                                               0.000</td><td style=\"text-align: right;\">                       0.000</td><td style=\"text-align: right;\">                                               0.000</td><td style=\"text-align: right;\">                0.000</td><td style=\"text-align: right;\">                                               0.000</td><td style=\"text-align: right;\">                                               0.000</td><td style=\"text-align: right;\">                                               0.000</td><td style=\"text-align: right;\">                                     0.000</td><td style=\"text-align: right;\">                                               0.000</td><td style=\"text-align: right;\">                   0.000</td><td style=\"text-align: right;\">                 0.000</td><td style=\"text-align: right;\">                                               0.000</td><td style=\"text-align: right;\">                                       0.000</td><td style=\"text-align: right;\">                                               0.000</td><td style=\"text-align: right;\">                                               0.000</td><td style=\"text-align: right;\">                                              -0.002</td></tr>\\n<tr><td>bottle grade          </td><td>bottle grade          </td><td>RER                      </td><td>kilogram</td><td style=\"text-align: right;\">  2.748</td><td style=\"text-align: right;\">                     0.119</td><td style=\"text-align: right;\">                                        0.000</td><td style=\"text-align: right;\">                           0.030</td><td style=\"text-align: right;\">                                               0.362</td><td style=\"text-align: right;\">                   0.000</td><td style=\"text-align: right;\">                       0.083</td><td style=\"text-align: right;\">                                               0.207</td><td style=\"text-align: right;\">                                         0.044</td><td style=\"text-align: right;\">                                          0.041</td><td style=\"text-align: right;\">                                               0.011</td><td style=\"text-align: right;\">                                               0.006</td><td style=\"text-align: right;\">                           0.000</td><td style=\"text-align: right;\">                                               0.028</td><td style=\"text-align: right;\">             0.000</td><td style=\"text-align: right;\">                                               0.000</td><td style=\"text-align: right;\">                                 0.000</td><td style=\"text-align: right;\">                                     0.022</td><td style=\"text-align: right;\">                                               0.013</td><td style=\"text-align: right;\">                         0.005</td><td style=\"text-align: right;\">                                            0.000</td><td style=\"text-align: right;\">                                               0.006</td><td style=\"text-align: right;\">                                               0.000</td><td style=\"text-align: right;\">                                        0.006</td><td style=\"text-align: right;\">                 0.001</td><td style=\"text-align: right;\">                    0.000</td><td style=\"text-align: right;\">                                               0.000</td><td style=\"text-align: right;\">                                               0.003</td><td style=\"text-align: right;\">                                               0.002</td><td style=\"text-align: right;\">                         0.000</td><td style=\"text-align: right;\">                                               0.001</td><td style=\"text-align: right;\">                          0.000</td><td style=\"text-align: right;\">                                             0.000</td><td style=\"text-align: right;\">                                             0.001</td><td style=\"text-align: right;\">                0.000</td><td style=\"text-align: right;\">                 0.000</td><td style=\"text-align: right;\">                      0.000</td><td style=\"text-align: right;\">                                               0.000</td><td style=\"text-align: right;\">                                  0.000</td><td style=\"text-align: right;\">                                               0.000</td><td style=\"text-align: right;\">                       0.000</td><td style=\"text-align: right;\">                                               0.000</td><td style=\"text-align: right;\">                0.000</td><td style=\"text-align: right;\">                                               0.000</td><td style=\"text-align: right;\">                                               0.000</td><td style=\"text-align: right;\">                                               0.000</td><td style=\"text-align: right;\">                                     0.000</td><td style=\"text-align: right;\">                                               0.000</td><td style=\"text-align: right;\">                   0.000</td><td style=\"text-align: right;\">                 0.000</td><td style=\"text-align: right;\">                                               0.000</td><td style=\"text-align: right;\">                                       0.000</td><td style=\"text-align: right;\">                                               0.000</td><td style=\"text-align: right;\">                                               0.000</td><td style=\"text-align: right;\">                                               0.000</td></tr>\\n<tr><td>bottle grade          </td><td>bottle grade          </td><td>RoW                      </td><td>kilogram</td><td style=\"text-align: right;\">  2.838</td><td style=\"text-align: right;\">                     0.141</td><td style=\"text-align: right;\">                                        0.000</td><td style=\"text-align: right;\">                           0.029</td><td style=\"text-align: right;\">                                               0.350</td><td style=\"text-align: right;\">                   0.000</td><td style=\"text-align: right;\">                       0.083</td><td style=\"text-align: right;\">                                               0.201</td><td style=\"text-align: right;\">                                         0.045</td><td style=\"text-align: right;\">                                          0.040</td><td style=\"text-align: right;\">                                               0.010</td><td style=\"text-align: right;\">                                               0.006</td><td style=\"text-align: right;\">                           0.000</td><td style=\"text-align: right;\">                                               0.027</td><td style=\"text-align: right;\">             0.000</td><td style=\"text-align: right;\">                                               0.000</td><td style=\"text-align: right;\">                                 0.000</td><td style=\"text-align: right;\">                                     0.022</td><td style=\"text-align: right;\">                                               0.014</td><td style=\"text-align: right;\">                         0.005</td><td style=\"text-align: right;\">                                            0.000</td><td style=\"text-align: right;\">                                               0.008</td><td style=\"text-align: right;\">                                               0.000</td><td style=\"text-align: right;\">                                        0.006</td><td style=\"text-align: right;\">                 0.001</td><td style=\"text-align: right;\">                    0.000</td><td style=\"text-align: right;\">                                               0.000</td><td style=\"text-align: right;\">                                               0.003</td><td style=\"text-align: right;\">                                               0.002</td><td style=\"text-align: right;\">                         0.000</td><td style=\"text-align: right;\">                                               0.001</td><td style=\"text-align: right;\">                          0.000</td><td style=\"text-align: right;\">                                             0.000</td><td style=\"text-align: right;\">                                             0.000</td><td style=\"text-align: right;\">                0.000</td><td style=\"text-align: right;\">                 0.000</td><td style=\"text-align: right;\">                      0.000</td><td style=\"text-align: right;\">                                               0.000</td><td style=\"text-align: right;\">                                  0.000</td><td style=\"text-align: right;\">                                               0.000</td><td style=\"text-align: right;\">                       0.000</td><td style=\"text-align: right;\">                                               0.000</td><td style=\"text-align: right;\">                0.000</td><td style=\"text-align: right;\">                                               0.000</td><td style=\"text-align: right;\">                                               0.000</td><td style=\"text-align: right;\">                                               0.000</td><td style=\"text-align: right;\">                                     0.000</td><td style=\"text-align: right;\">                                               0.000</td><td style=\"text-align: right;\">                   0.000</td><td style=\"text-align: right;\">                 0.000</td><td style=\"text-align: right;\">                                               0.000</td><td style=\"text-align: right;\">                                       0.000</td><td style=\"text-align: right;\">                                               0.000</td><td style=\"text-align: right;\">                                               0.000</td><td style=\"text-align: right;\">                                               0.000</td></tr>\\n<tr><td>amorphous             </td><td>amorphous             </td><td>CA-QC                    </td><td>kilogram</td><td style=\"text-align: right;\">  2.943</td><td style=\"text-align: right;\">                     0.086</td><td style=\"text-align: right;\">                                        0.000</td><td style=\"text-align: right;\">                           0.028</td><td style=\"text-align: right;\">                                               0.343</td><td style=\"text-align: right;\">                   0.000</td><td style=\"text-align: right;\">                       0.211</td><td style=\"text-align: right;\">                                               0.190</td><td style=\"text-align: right;\">                                         0.043</td><td style=\"text-align: right;\">                                          0.000</td><td style=\"text-align: right;\">                                               0.002</td><td style=\"text-align: right;\">                                               0.005</td><td style=\"text-align: right;\">                           0.000</td><td style=\"text-align: right;\">                                               0.027</td><td style=\"text-align: right;\">             0.000</td><td style=\"text-align: right;\">                                               0.000</td><td style=\"text-align: right;\">                                 0.000</td><td style=\"text-align: right;\">                                     0.021</td><td style=\"text-align: right;\">                                               0.011</td><td style=\"text-align: right;\">                         0.004</td><td style=\"text-align: right;\">                                            0.000</td><td style=\"text-align: right;\">                                               0.008</td><td style=\"text-align: right;\">                                               0.000</td><td style=\"text-align: right;\">                                        0.006</td><td style=\"text-align: right;\">                 0.001</td><td style=\"text-align: right;\">                    0.000</td><td style=\"text-align: right;\">                                               0.000</td><td style=\"text-align: right;\">                                               0.003</td><td style=\"text-align: right;\">                                               0.002</td><td style=\"text-align: right;\">                         0.000</td><td style=\"text-align: right;\">                                               0.000</td><td style=\"text-align: right;\">                          0.000</td><td style=\"text-align: right;\">                                             0.000</td><td style=\"text-align: right;\">                                             0.000</td><td style=\"text-align: right;\">                0.000</td><td style=\"text-align: right;\">                 0.000</td><td style=\"text-align: right;\">                      0.000</td><td style=\"text-align: right;\">                                               0.000</td><td style=\"text-align: right;\">                                  0.000</td><td style=\"text-align: right;\">                                               0.000</td><td style=\"text-align: right;\">                       0.000</td><td style=\"text-align: right;\">                                               0.000</td><td style=\"text-align: right;\">                0.000</td><td style=\"text-align: right;\">                                               0.000</td><td style=\"text-align: right;\">                                               0.000</td><td style=\"text-align: right;\">                                               0.000</td><td style=\"text-align: right;\">                                     0.000</td><td style=\"text-align: right;\">                                               0.000</td><td style=\"text-align: right;\">                   0.000</td><td style=\"text-align: right;\">                 0.000</td><td style=\"text-align: right;\">                                               0.000</td><td style=\"text-align: right;\">                                       0.000</td><td style=\"text-align: right;\">                                               0.000</td><td style=\"text-align: right;\">                                               0.000</td><td style=\"text-align: right;\">                                               0.000</td></tr>\\n<tr><td>amorphous             </td><td>amorphous             </td><td>RER                      </td><td>kilogram</td><td style=\"text-align: right;\">  2.944</td><td style=\"text-align: right;\">                     0.111</td><td style=\"text-align: right;\">                                        0.001</td><td style=\"text-align: right;\">                           0.028</td><td style=\"text-align: right;\">                                               0.342</td><td style=\"text-align: right;\">                   0.000</td><td style=\"text-align: right;\">                       0.189</td><td style=\"text-align: right;\">                                               0.190</td><td style=\"text-align: right;\">                                         0.041</td><td style=\"text-align: right;\">                                          0.000</td><td style=\"text-align: right;\">                                               0.002</td><td style=\"text-align: right;\">                                               0.005</td><td style=\"text-align: right;\">                           0.000</td><td style=\"text-align: right;\">                                               0.027</td><td style=\"text-align: right;\">             0.000</td><td style=\"text-align: right;\">                                               0.000</td><td style=\"text-align: right;\">                                 0.000</td><td style=\"text-align: right;\">                                     0.021</td><td style=\"text-align: right;\">                                               0.011</td><td style=\"text-align: right;\">                         0.004</td><td style=\"text-align: right;\">                                            0.000</td><td style=\"text-align: right;\">                                               0.006</td><td style=\"text-align: right;\">                                               0.000</td><td style=\"text-align: right;\">                                        0.006</td><td style=\"text-align: right;\">                 0.001</td><td style=\"text-align: right;\">                    0.000</td><td style=\"text-align: right;\">                                               0.000</td><td style=\"text-align: right;\">                                               0.003</td><td style=\"text-align: right;\">                                               0.002</td><td style=\"text-align: right;\">                         0.000</td><td style=\"text-align: right;\">                                               0.000</td><td style=\"text-align: right;\">                          0.000</td><td style=\"text-align: right;\">                                             0.000</td><td style=\"text-align: right;\">                                             0.000</td><td style=\"text-align: right;\">                0.000</td><td style=\"text-align: right;\">                 0.000</td><td style=\"text-align: right;\">                      0.000</td><td style=\"text-align: right;\">                                               0.000</td><td style=\"text-align: right;\">                                  0.000</td><td style=\"text-align: right;\">                                               0.000</td><td style=\"text-align: right;\">                       0.000</td><td style=\"text-align: right;\">                                               0.000</td><td style=\"text-align: right;\">                0.000</td><td style=\"text-align: right;\">                                               0.000</td><td style=\"text-align: right;\">                                               0.000</td><td style=\"text-align: right;\">                                               0.000</td><td style=\"text-align: right;\">                                     0.000</td><td style=\"text-align: right;\">                                               0.000</td><td style=\"text-align: right;\">                   0.000</td><td style=\"text-align: right;\">                 0.000</td><td style=\"text-align: right;\">                                               0.000</td><td style=\"text-align: right;\">                                       0.000</td><td style=\"text-align: right;\">                                               0.000</td><td style=\"text-align: right;\">                                               0.000</td><td style=\"text-align: right;\">                                               0.000</td></tr>\\n<tr><td>amorphous             </td><td>amorphous             </td><td>RoW                      </td><td>kilogram</td><td style=\"text-align: right;\">  3.105</td><td style=\"text-align: right;\">                     0.129</td><td style=\"text-align: right;\">                                        0.000</td><td style=\"text-align: right;\">                           0.027</td><td style=\"text-align: right;\">                                               0.325</td><td style=\"text-align: right;\">                   0.000</td><td style=\"text-align: right;\">                       0.200</td><td style=\"text-align: right;\">                                               0.180</td><td style=\"text-align: right;\">                                         0.041</td><td style=\"text-align: right;\">                                          0.000</td><td style=\"text-align: right;\">                                               0.002</td><td style=\"text-align: right;\">                                               0.005</td><td style=\"text-align: right;\">                           0.000</td><td style=\"text-align: right;\">                                               0.025</td><td style=\"text-align: right;\">             0.004</td><td style=\"text-align: right;\">                                               0.000</td><td style=\"text-align: right;\">                                 0.000</td><td style=\"text-align: right;\">                                     0.020</td><td style=\"text-align: right;\">                                               0.010</td><td style=\"text-align: right;\">                         0.004</td><td style=\"text-align: right;\">                                            0.000</td><td style=\"text-align: right;\">                                               0.008</td><td style=\"text-align: right;\">                                               0.000</td><td style=\"text-align: right;\">                                        0.006</td><td style=\"text-align: right;\">                 0.001</td><td style=\"text-align: right;\">                    0.000</td><td style=\"text-align: right;\">                                               0.000</td><td style=\"text-align: right;\">                                               0.003</td><td style=\"text-align: right;\">                                               0.002</td><td style=\"text-align: right;\">                         0.000</td><td style=\"text-align: right;\">                                               0.000</td><td style=\"text-align: right;\">                          0.000</td><td style=\"text-align: right;\">                                             0.000</td><td style=\"text-align: right;\">                                             0.000</td><td style=\"text-align: right;\">                0.000</td><td style=\"text-align: right;\">                 0.000</td><td style=\"text-align: right;\">                      0.000</td><td style=\"text-align: right;\">                                               0.000</td><td style=\"text-align: right;\">                                  0.000</td><td style=\"text-align: right;\">                                               0.000</td><td style=\"text-align: right;\">                       0.000</td><td style=\"text-align: right;\">                                               0.000</td><td style=\"text-align: right;\">                0.000</td><td style=\"text-align: right;\">                                               0.000</td><td style=\"text-align: right;\">                                               0.000</td><td style=\"text-align: right;\">                                               0.000</td><td style=\"text-align: right;\">                                     0.000</td><td style=\"text-align: right;\">                                               0.000</td><td style=\"text-align: right;\">                   0.000</td><td style=\"text-align: right;\">                 0.000</td><td style=\"text-align: right;\">                                               0.000</td><td style=\"text-align: right;\">                                       0.000</td><td style=\"text-align: right;\">                                               0.000</td><td style=\"text-align: right;\">                                               0.000</td><td style=\"text-align: right;\">                                               0.000</td></tr>\\n<tr><td>bottle grade          </td><td>bottle grade          </td><td>CA-QC                    </td><td>kilogram</td><td style=\"text-align: right;\">  3.164</td><td style=\"text-align: right;\">                     0.049</td><td style=\"text-align: right;\">                                        0.000</td><td style=\"text-align: right;\">                           0.451</td><td style=\"text-align: right;\">                                               0.057</td><td style=\"text-align: right;\">                   0.000</td><td style=\"text-align: right;\">                       0.145</td><td style=\"text-align: right;\">                                               0.207</td><td style=\"text-align: right;\">                                         0.037</td><td style=\"text-align: right;\">                                          0.004</td><td style=\"text-align: right;\">                                               0.000</td><td style=\"text-align: right;\">                                               0.001</td><td style=\"text-align: right;\">                           0.000</td><td style=\"text-align: right;\">                                               0.004</td><td style=\"text-align: right;\">             0.000</td><td style=\"text-align: right;\">                                               0.000</td><td style=\"text-align: right;\">                                 0.000</td><td style=\"text-align: right;\">                                     0.019</td><td style=\"text-align: right;\">                                               0.002</td><td style=\"text-align: right;\">                         0.001</td><td style=\"text-align: right;\">                                            0.000</td><td style=\"text-align: right;\">                                               0.008</td><td style=\"text-align: right;\">                                               0.000</td><td style=\"text-align: right;\">                                        0.005</td><td style=\"text-align: right;\">                 0.000</td><td style=\"text-align: right;\">                    0.000</td><td style=\"text-align: right;\">                                               0.000</td><td style=\"text-align: right;\">                                               0.000</td><td style=\"text-align: right;\">                                               0.002</td><td style=\"text-align: right;\">                         0.000</td><td style=\"text-align: right;\">                                               0.000</td><td style=\"text-align: right;\">                          0.000</td><td style=\"text-align: right;\">                                             0.000</td><td style=\"text-align: right;\">                                             0.000</td><td style=\"text-align: right;\">                0.000</td><td style=\"text-align: right;\">                 0.000</td><td style=\"text-align: right;\">                      0.000</td><td style=\"text-align: right;\">                                               0.000</td><td style=\"text-align: right;\">                                  0.000</td><td style=\"text-align: right;\">                                               0.000</td><td style=\"text-align: right;\">                       0.000</td><td style=\"text-align: right;\">                                               0.000</td><td style=\"text-align: right;\">                0.000</td><td style=\"text-align: right;\">                                               0.000</td><td style=\"text-align: right;\">                                               0.000</td><td style=\"text-align: right;\">                                               0.000</td><td style=\"text-align: right;\">                                     0.000</td><td style=\"text-align: right;\">                                               0.000</td><td style=\"text-align: right;\">                   0.000</td><td style=\"text-align: right;\">                 0.000</td><td style=\"text-align: right;\">                                               0.000</td><td style=\"text-align: right;\">                                       0.000</td><td style=\"text-align: right;\">                                               0.000</td><td style=\"text-align: right;\">                                               0.000</td><td style=\"text-align: right;\">                                               0.000</td></tr>\\n</tbody>\\n</table>'"
      ]
     },
     "execution_count": 25,
     "metadata": {},
     "output_type": "execute_result"
    }
   ],
   "source": [
    "table_for_compared_activities(*compare_activities_by_grouped_leaves(pet_production, ipcc))"
   ]
  },
  {
   "cell_type": "code",
   "execution_count": null,
   "id": "another-weather",
   "metadata": {},
   "outputs": [],
   "source": []
  }
 ],
 "metadata": {
  "kernelspec": {
   "display_name": "Python 3",
   "language": "python",
   "name": "python3"
  },
  "language_info": {
   "codemirror_mode": {
    "name": "ipython",
    "version": 3
   },
   "file_extension": ".py",
   "mimetype": "text/x-python",
   "name": "python",
   "nbconvert_exporter": "python",
   "pygments_lexer": "ipython3",
   "version": "3.9.2"
  }
 },
 "nbformat": 4,
 "nbformat_minor": 5
}
