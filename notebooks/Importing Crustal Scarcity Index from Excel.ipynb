{
 "cells": [
  {
   "cell_type": "markdown",
   "id": "inclusive-slave",
   "metadata": {},
   "source": [
    "# Import Brightway libraries"
   ]
  },
  {
   "cell_type": "code",
   "execution_count": 1,
   "id": "terminal-hometown",
   "metadata": {},
   "outputs": [],
   "source": [
    "import bw2io as bi\n",
    "import bw2data as bd\n",
    "import bw2calc as bc\n",
    "from functools import partial"
   ]
  },
  {
   "cell_type": "markdown",
   "id": "sunrise-ranch",
   "metadata": {},
   "source": [
    "# Import ecoinvent 3.6"
   ]
  },
  {
   "cell_type": "code",
   "execution_count": 2,
   "id": "alone-sperm",
   "metadata": {},
   "outputs": [],
   "source": [
    "bd.projects.set_current(\"ecoinvent 3.6\")"
   ]
  },
  {
   "cell_type": "code",
   "execution_count": 3,
   "id": "alleged-timing",
   "metadata": {},
   "outputs": [
    {
     "name": "stdout",
     "output_type": "stream",
     "text": [
      "Creating default biosphere\n",
      "\n"
     ]
    },
    {
     "name": "stderr",
     "output_type": "stream",
     "text": [
      "Writing activities to SQLite3 database:\n"
     ]
    },
    {
     "name": "stdout",
     "output_type": "stream",
     "text": [
      "Applying strategy: normalize_units\n",
      "Applying strategy: drop_unspecified_subcategories\n",
      "Applied 2 strategies in 0.01 seconds\n"
     ]
    },
    {
     "name": "stderr",
     "output_type": "stream",
     "text": [
      "0% [##############################] 100% | ETA: 00:00:00\n",
      "Total time elapsed: 00:00:00\n"
     ]
    },
    {
     "name": "stdout",
     "output_type": "stream",
     "text": [
      "Title: Writing activities to SQLite3 database:\n",
      "  Started: 02/25/2021 12:20:41\n",
      "  Finished: 02/25/2021 12:20:42\n",
      "  Total time elapsed: 00:00:00\n",
      "  CPU %: 56.00\n",
      "  Memory %: 0.98\n",
      "Created database: biosphere3\n",
      "Creating default LCIA methods\n",
      "\n",
      "Applying strategy: normalize_units\n",
      "Applying strategy: set_biosphere_type\n",
      "Applying strategy: drop_unspecified_subcategories\n",
      "Applying strategy: link_iterable_by_fields\n",
      "Applied 4 strategies in 1.36 seconds\n",
      "Wrote 850 LCIA methods with 219059 characterization factors\n",
      "Creating core data migrations\n",
      "\n"
     ]
    }
   ],
   "source": [
    "bi.bw2setup()"
   ]
  },
  {
   "cell_type": "code",
   "execution_count": 6,
   "id": "numerical-homeless",
   "metadata": {},
   "outputs": [
    {
     "name": "stdout",
     "output_type": "stream",
     "text": [
      "Extracting XML data from 18121 datasets\n",
      "Extracted 18121 datasets in 138.26 seconds\n",
      "Applying strategy: normalize_units\n",
      "Applying strategy: update_ecoinvent_locations\n",
      "Applying strategy: remove_zero_amount_coproducts\n",
      "Applying strategy: remove_zero_amount_inputs_with_no_activity\n",
      "Applying strategy: remove_unnamed_parameters\n",
      "Applying strategy: es2_assign_only_product_with_amount_as_reference_product\n",
      "Applying strategy: assign_single_product_as_activity\n",
      "Applying strategy: create_composite_code\n",
      "Applying strategy: drop_unspecified_subcategories\n",
      "Applying strategy: fix_ecoinvent_flows_pre35\n",
      "Applying strategy: drop_temporary_outdated_biosphere_flows\n",
      "Applying strategy: link_biosphere_by_flow_uuid\n",
      "Applying strategy: link_internal_technosphere_by_composite_code\n",
      "Applying strategy: delete_exchanges_missing_activity\n",
      "Applying strategy: delete_ghost_exchanges\n",
      "Applying strategy: remove_uncertainty_from_negative_loss_exchanges\n",
      "Applying strategy: fix_unreasonably_high_lognormal_uncertainties\n",
      "Applying strategy: set_lognormal_loc_value\n",
      "Applying strategy: convert_activity_parameters_to_list\n",
      "Applying strategy: add_cpc_classification_from_single_reference_product\n",
      "Applying strategy: delete_none_synonyms\n",
      "Applied 21 strategies in 9.50 seconds\n"
     ]
    }
   ],
   "source": [
    "ei = bi.SingleOutputEcospold2Importer(\"/Users/cmutel/Documents/LCA/Ecoinvent/3.6/cutoff/datasets/\", \"ecoinvent 3.6\")\n",
    "ei.apply_strategies()"
   ]
  },
  {
   "cell_type": "code",
   "execution_count": 7,
   "id": "floral-oakland",
   "metadata": {},
   "outputs": [
    {
     "name": "stdout",
     "output_type": "stream",
     "text": [
      "18121 datasets\n",
      "615644 exchanges\n",
      "0 unlinked exchanges\n",
      "  \n"
     ]
    },
    {
     "data": {
      "text/plain": [
       "(18121, 615644, 0)"
      ]
     },
     "execution_count": 7,
     "metadata": {},
     "output_type": "execute_result"
    }
   ],
   "source": [
    "ei.statistics()"
   ]
  },
  {
   "cell_type": "code",
   "execution_count": 8,
   "id": "ahead-walker",
   "metadata": {},
   "outputs": [
    {
     "name": "stderr",
     "output_type": "stream",
     "text": [
      "Writing activities to SQLite3 database:\n",
      "0% [##############################] 100% | ETA: 00:00:00\n",
      "Total time elapsed: 00:01:09\n"
     ]
    },
    {
     "name": "stdout",
     "output_type": "stream",
     "text": [
      "Title: Writing activities to SQLite3 database:\n",
      "  Started: 02/25/2021 12:26:12\n",
      "  Finished: 02/25/2021 12:27:21\n",
      "  Total time elapsed: 00:01:09\n",
      "  CPU %: 80.00\n",
      "  Memory %: 19.24\n",
      "Created database: ecoinvent 3.6\n"
     ]
    },
    {
     "data": {
      "text/plain": [
       "Brightway2 SQLiteBackend: ecoinvent 3.6"
      ]
     },
     "execution_count": 8,
     "metadata": {},
     "output_type": "execute_result"
    }
   ],
   "source": [
    "ei.write_database()"
   ]
  },
  {
   "cell_type": "code",
   "execution_count": 9,
   "id": "incomplete-macro",
   "metadata": {},
   "outputs": [
    {
     "data": {
      "text/plain": [
       "Databases dictionary with 2 object(s):\n",
       "\tbiosphere3\n",
       "\tecoinvent 3.6"
      ]
     },
     "execution_count": 9,
     "metadata": {},
     "output_type": "execute_result"
    }
   ],
   "source": [
    "bd.databases"
   ]
  },
  {
   "cell_type": "markdown",
   "id": "administrative-mainland",
   "metadata": {},
   "source": [
    "# Provide method metadata"
   ]
  },
  {
   "cell_type": "code",
   "execution_count": 10,
   "id": "blessed-greene",
   "metadata": {},
   "outputs": [],
   "source": [
    "DESCRIPTION=(\"A midpoint-level mineral resource impact assessment method matching this perspective is proposed, \"\n",
    "             \"called the crustal scarcity indicator (CSI), with characterization factors called crustal scarcity \"\n",
    "             \"potentials (CSPs) measured as kg silicon equivalents per kg element. They are based on crustal \"\n",
    "             \"concentrations, which have been suggested to correlate with several important resource metrics \"\n",
    "             \"(reserves, reserve base, reserves plus cumulative production, and ore deposits), thereby constituting \"\n",
    "             \"proxies for long-term global elemental scarcity.\")"
   ]
  },
  {
   "cell_type": "code",
   "execution_count": 11,
   "id": "central-siemens",
   "metadata": {},
   "outputs": [],
   "source": [
    "ei = bi.ExcelLCIAImporter(\n",
    "    filepath=\"CSI_CF.xlsx\", \n",
    "    name=(\"Crustal Scarcity Index\", \"1.0\"), \n",
    "    description=DESCRIPTION, \n",
    "    unit=\"kilogram Silicon equivalent\",\n",
    "    # Can add any additional metadata\n",
    "    article_url=\"https://link.springer.com/article/10.1007%2Fs11367-020-01781-1\",\n",
    "    doi=\"https://doi.org/10.1007/s11367-020-01781-1\",\n",
    "    authors=\"Rickard Arvidsson, Maria Ljunggren Söderman, Björn A. Sandén, Anders Nordelöf, Hampus André, Anne-Marie Tillman\",\n",
    ")"
   ]
  },
  {
   "cell_type": "markdown",
   "id": "meaning-leonard",
   "metadata": {},
   "source": [
    "# Data cleanup\n",
    "\n",
    "## Step 1: Remove empty lines\n",
    "\n",
    "Because of the way the Excel works, lines you touch but are still empty can be considered part of the worksheet. We remove these."
   ]
  },
  {
   "cell_type": "code",
   "execution_count": 12,
   "id": "declared-equivalent",
   "metadata": {},
   "outputs": [
    {
     "data": {
      "text/plain": [
       "[{'Type': None,\n",
       "  'Flow': None,\n",
       "  'Category': None,\n",
       "  'Sub category': None,\n",
       "  'Flow property': None,\n",
       "  'Chracterization Factor': None,\n",
       "  'Unit': None,\n",
       "  None: None},\n",
       " {'Type': None,\n",
       "  'Flow': None,\n",
       "  'Category': None,\n",
       "  'Sub category': None,\n",
       "  'Flow property': None,\n",
       "  'Chracterization Factor': None,\n",
       "  'Unit': None,\n",
       "  None: None}]"
      ]
     },
     "execution_count": 12,
     "metadata": {},
     "output_type": "execute_result"
    }
   ],
   "source": [
    "[cf for cf in ei.data[0]['exchanges'] if not cf['Flow']]"
   ]
  },
  {
   "cell_type": "code",
   "execution_count": 13,
   "id": "israeli-butterfly",
   "metadata": {},
   "outputs": [],
   "source": [
    "def drop_empty_lines(data):\n",
    "    for method in data:\n",
    "        method['exchanges'] = [obj for obj in method['exchanges'] if obj['Flow']]\n",
    "    return data    "
   ]
  },
  {
   "cell_type": "code",
   "execution_count": 14,
   "id": "outdoor-remove",
   "metadata": {},
   "outputs": [
    {
     "name": "stdout",
     "output_type": "stream",
     "text": [
      "Applying strategy: drop_empty_lines\n"
     ]
    }
   ],
   "source": [
    "ei.apply_strategy(drop_empty_lines)"
   ]
  },
  {
   "cell_type": "markdown",
   "id": "historical-tobacco",
   "metadata": {},
   "source": [
    "## Step 2: Change `Flow` to `name`, 'Chracterization Factor' to 'amount'\n",
    "\n",
    "We need to match the `name` in the CF to the `name` in the biosphere database."
   ]
  },
  {
   "cell_type": "code",
   "execution_count": 15,
   "id": "voluntary-shepherd",
   "metadata": {},
   "outputs": [],
   "source": [
    "def rename_flow(data):\n",
    "    for method in data:\n",
    "        for cf in method['exchanges']:\n",
    "            cf['name'] = cf.pop('Flow')\n",
    "            cf['amount'] = cf.pop('Chracterization Factor')\n",
    "    return data"
   ]
  },
  {
   "cell_type": "code",
   "execution_count": 16,
   "id": "bigger-harvest",
   "metadata": {},
   "outputs": [
    {
     "name": "stdout",
     "output_type": "stream",
     "text": [
      "Applying strategy: rename_flow\n"
     ]
    }
   ],
   "source": [
    "ei.apply_strategy(rename_flow)"
   ]
  },
  {
   "cell_type": "markdown",
   "id": "funny-visibility",
   "metadata": {},
   "source": [
    "## Step 3: Change category to ecoinvent standard\n",
    "\n",
    "CSI input data uses `Resource`, but ecoinvent data uses `natural resource`."
   ]
  },
  {
   "cell_type": "code",
   "execution_count": 17,
   "id": "invalid-anaheim",
   "metadata": {},
   "outputs": [],
   "source": [
    "def rename_resource_category(data):\n",
    "    for method in data:\n",
    "        for cf in method['exchanges']:\n",
    "            if cf['Category'] == 'Resource':\n",
    "                cf['Category'] = 'natural resource'\n",
    "    return data"
   ]
  },
  {
   "cell_type": "code",
   "execution_count": 18,
   "id": "opened-thickness",
   "metadata": {},
   "outputs": [
    {
     "name": "stdout",
     "output_type": "stream",
     "text": [
      "Applying strategy: rename_resource_category\n"
     ]
    }
   ],
   "source": [
    "ei.apply_strategy(rename_resource_category)"
   ]
  },
  {
   "cell_type": "markdown",
   "id": "raising-evans",
   "metadata": {},
   "source": [
    "## Step 4: Create tuple of `categories`\n",
    "\n",
    "Brightway support a [tuple](https://en.wikipedia.org/wiki/Tuple) of categories of arbitrary length, while CSI uses length 1 or 2. Length 1 uses `undefined` as a dummy parameter. We convert the fields `Category` and `Sub category` to a tuple of uniform style, without dummy parameters."
   ]
  },
  {
   "cell_type": "code",
   "execution_count": 19,
   "id": "retired-burner",
   "metadata": {},
   "outputs": [],
   "source": [
    "def create_categories_as_tuple(data):\n",
    "    for method in data:\n",
    "        for cf in method['exchanges']:\n",
    "            if cf['Sub category'] == 'unspecified':\n",
    "                cf['categories'] = (cf['Category'],)\n",
    "            else:\n",
    "                cf['categories'] = (cf['Category'], cf['Sub category'])\n",
    "    return data"
   ]
  },
  {
   "cell_type": "code",
   "execution_count": 20,
   "id": "seventh-links",
   "metadata": {},
   "outputs": [
    {
     "name": "stdout",
     "output_type": "stream",
     "text": [
      "Applying strategy: create_categories_as_tuple\n"
     ]
    }
   ],
   "source": [
    "ei.apply_strategy(create_categories_as_tuple)"
   ]
  },
  {
   "cell_type": "markdown",
   "id": "intensive-diary",
   "metadata": {},
   "source": [
    "# Run the normal strategies\n",
    "\n",
    "This includes linking against the ecoinvent biosphere database."
   ]
  },
  {
   "cell_type": "code",
   "execution_count": 21,
   "id": "artistic-heart",
   "metadata": {},
   "outputs": [
    {
     "name": "stdout",
     "output_type": "stream",
     "text": [
      "Applying strategy: csv_restore_tuples\n",
      "Applying strategy: csv_numerize\n",
      "Applying strategy: csv_drop_unknown\n",
      "Applying strategy: set_biosphere_type\n",
      "Applying strategy: drop_unspecified_subcategories\n",
      "Applying strategy: link_iterable_by_fields\n",
      "Applying strategy: drop_falsey_uncertainty_fields_but_keep_zeros\n",
      "Applying strategy: convert_uncertainty_types_to_integers\n",
      "Applied 8 strategies in 0.23 seconds\n"
     ]
    }
   ],
   "source": [
    "ei.apply_strategies()"
   ]
  },
  {
   "cell_type": "markdown",
   "id": "introductory-option",
   "metadata": {},
   "source": [
    "Check our results."
   ]
  },
  {
   "cell_type": "code",
   "execution_count": 22,
   "id": "herbal-hypothetical",
   "metadata": {},
   "outputs": [
    {
     "name": "stdout",
     "output_type": "stream",
     "text": [
      "1 methods\n",
      "597 cfs\n",
      "405 unlinked cfs\n"
     ]
    },
    {
     "data": {
      "text/plain": [
       "(1, 597, 405)"
      ]
     },
     "execution_count": 22,
     "metadata": {},
     "output_type": "execute_result"
    }
   ],
   "source": [
    "ei.statistics()"
   ]
  },
  {
   "cell_type": "markdown",
   "id": "neither-mauritius",
   "metadata": {},
   "source": [
    "Not great. As with all IO operations, we now enter an iterative improvement period...\n",
    "\n",
    "# Iterative improvement\n",
    "\n",
    "## Step 1: Name discrepancies\n",
    "\n",
    "First, we notice that there are some name discrepancies. Namely, CSI provides reasonable names:"
   ]
  },
  {
   "cell_type": "code",
   "execution_count": 23,
   "id": "mexican-defendant",
   "metadata": {},
   "outputs": [
    {
     "data": {
      "text/plain": [
       "[{'Type': 'A',\n",
       "  'Category': 'natural resource',\n",
       "  'Sub category': 'unspecified',\n",
       "  'Flow property': 'Mass',\n",
       "  'Unit': 'kg Si-Eq/kg',\n",
       "  None: None,\n",
       "  'name': 'Copper, 0.59% in sulfide, Cu 0.22% and Mo 8.2E-3% in crude ore',\n",
       "  'amount': 10000,\n",
       "  'categories': ('natural resource',),\n",
       "  'type': 'biosphere'}]"
      ]
     },
     "execution_count": 23,
     "metadata": {},
     "output_type": "execute_result"
    }
   ],
   "source": [
    "[x for x in ei.data[0]['exchanges'] if x['name'] == 'Copper, 0.59% in sulfide, Cu 0.22% and Mo 8.2E-3% in crude ore']"
   ]
  },
  {
   "cell_type": "markdown",
   "id": "liquid-mixer",
   "metadata": {},
   "source": [
    "But ecoinvent does something weird:"
   ]
  },
  {
   "cell_type": "code",
   "execution_count": 24,
   "id": "surgical-times",
   "metadata": {},
   "outputs": [
    {
     "data": {
      "text/plain": [
       "['Copper, 0.59% in sulfide, Cu 0.22% and Mo 8.2E-3% in crude ore, in ground' (kilogram, None, ('natural resource', 'in ground'))]"
      ]
     },
     "execution_count": 24,
     "metadata": {},
     "output_type": "execute_result"
    }
   ],
   "source": [
    "[x \n",
    " for x in bd.Database(bd.config.biosphere) \n",
    " if 'Copper, 0.59% in sulfide, Cu 0.22% and Mo 8.2E-3% in crude ore' in x['name'] \n",
    " and x['categories'][0] == 'natural resource']"
   ]
  },
  {
   "cell_type": "markdown",
   "id": "administrative-smell",
   "metadata": {},
   "source": [
    "It is subtle, but for some reason ecoinvent adds the suffix **`, in ground`**, even though we know that as the category is `in ground`.\n",
    "\n",
    "We also notice a mismatch here: The `categories` don't match. CSI doesn't have a CF for `('natural resource', 'in ground')`, while ecoinvent doesn't have a flow for `('natural resource',)`.\n",
    "\n",
    "We will need two strategies to fix these two issues."
   ]
  },
  {
   "cell_type": "code",
   "execution_count": 25,
   "id": "interior-auckland",
   "metadata": {},
   "outputs": [],
   "source": [
    "def add_in_ground_if_helpful(data):\n",
    "    biosphere = {o['name'] \n",
    "                 for o in bd.Database(bd.config.biosphere) \n",
    "                 if o['categories'][0] == 'natural resource'}\n",
    "    \n",
    "    for method in data:\n",
    "        for cf in method['exchanges']:\n",
    "            if not cf.get('input'):  # Skip already linked CFs\n",
    "                if cf['name'] not in biosphere and cf['name'] + \", in ground\" in biosphere:\n",
    "                    cf['name'] += \", in ground\"\n",
    "    \n",
    "    return data"
   ]
  },
  {
   "cell_type": "code",
   "execution_count": 26,
   "id": "accepting-native",
   "metadata": {},
   "outputs": [
    {
     "name": "stdout",
     "output_type": "stream",
     "text": [
      "Applying strategy: add_in_ground_if_helpful\n"
     ]
    }
   ],
   "source": [
    "ei.apply_strategy(add_in_ground_if_helpful)"
   ]
  },
  {
   "cell_type": "code",
   "execution_count": 27,
   "id": "technological-debut",
   "metadata": {},
   "outputs": [],
   "source": [
    "def change_categories_if_helpful(data):\n",
    "    biosphere = {(o['name'], tuple(o['categories'])) for o in bd.Database(bd.config.biosphere)}\n",
    "    \n",
    "    for method in data:\n",
    "        for cf in method['exchanges']:\n",
    "            if cf.get('input'):  # Skip already linked CFs\n",
    "                continue\n",
    "            if (\n",
    "                    (cf['name'], cf['categories']) not in biosphere \n",
    "                    and (cf['name'], cf['categories'] + (\"in ground\",)) in biosphere\n",
    "                ):\n",
    "                cf['categories'] = cf['categories'] + (\"in ground\",)\n",
    "    \n",
    "    return data    "
   ]
  },
  {
   "cell_type": "code",
   "execution_count": 28,
   "id": "ambient-irish",
   "metadata": {},
   "outputs": [
    {
     "name": "stdout",
     "output_type": "stream",
     "text": [
      "Applying strategy: change_categories_if_helpful\n"
     ]
    }
   ],
   "source": [
    "ei.apply_strategy(change_categories_if_helpful)"
   ]
  },
  {
   "cell_type": "markdown",
   "id": "acoustic-saturday",
   "metadata": {},
   "source": [
    "Try linking with our changes."
   ]
  },
  {
   "cell_type": "code",
   "execution_count": 29,
   "id": "described-bones",
   "metadata": {},
   "outputs": [
    {
     "name": "stdout",
     "output_type": "stream",
     "text": [
      "Applying strategy: link_iterable_by_fields\n"
     ]
    }
   ],
   "source": [
    "ei.apply_strategy(partial(\n",
    "    bi.strategies.link_iterable_by_fields,\n",
    "    other=bd.Database(bd.config.biosphere),\n",
    "    kind=\"biosphere\",\n",
    "    fields=(\"name\", \"categories\"),\n",
    "))"
   ]
  },
  {
   "cell_type": "code",
   "execution_count": 30,
   "id": "removed-operator",
   "metadata": {},
   "outputs": [
    {
     "name": "stdout",
     "output_type": "stream",
     "text": [
      "1 methods\n",
      "597 cfs\n",
      "231 unlinked cfs\n"
     ]
    },
    {
     "data": {
      "text/plain": [
       "(1, 597, 231)"
      ]
     },
     "execution_count": 30,
     "metadata": {},
     "output_type": "execute_result"
    }
   ],
   "source": [
    "ei.statistics()"
   ]
  },
  {
   "cell_type": "markdown",
   "id": "configured-circulation",
   "metadata": {},
   "source": [
    "## Step 2: Pain\n",
    "\n",
    "Ecoinvent has the following flows for copper:\n",
    "\n",
    "* Copper, 1.18% in sulfide, Cu 0.39% and Mo 8.2E-3% in crude ore, in ground\n",
    "* Copper, 1.25% in sulfide, Cu 0.24% and Zn 0,1% in crude ore, in ground\n",
    "* Copper, 1.42% in sulfide, Cu 0.81% and Mo 8.2E-3% in crude ore, in ground\n",
    "\n",
    "etc. Oh, and also:\n",
    "\n",
    "* Cu, Cu 5.2E-2%, Pt 4.8E-4%, Pd 2.0E-4%, Rh 2.4E-5%, Ni 3.7E-2% in ore, in ground\n",
    "\n",
    "<img src=\"consistency.png\">\n",
    "\n",
    "Let's see what the CST developers have and don't have:"
   ]
  },
  {
   "cell_type": "code",
   "execution_count": 31,
   "id": "going-playing",
   "metadata": {},
   "outputs": [
    {
     "name": "stdout",
     "output_type": "stream",
     "text": [
      "Wrote matching file to:\n",
      "/Users/cmutel/Library/Application Support/Brightway3/ecoinvent-36.d2073cbbe9aff3f7cc76c4f9a36d6789/output/lcia-matching-CSI.xlsx\n"
     ]
    }
   ],
   "source": [
    "ei.write_excel(\"CSI\")"
   ]
  },
  {
   "cell_type": "markdown",
   "id": "diverse-assembly",
   "metadata": {},
   "source": [
    "This file is also available [here](https://github.com/brightway-lca/brightway2/raw/master/notebooks/files/lcia-matching-CSI.xlsx).\n",
    "\n",
    "After checking these against the list of biosphere flows in ecoinvent 3.7.1, it looks like the CSI developers got everything! The missing flows only exist in SimaPro for compatibiltiy with other databases.\n",
    "\n",
    "BTW, if you want to see a more reasonable list of flows, check out https://github.com/USEPA/Federal-LCA-Commons-Elementary-Flow-List."
   ]
  },
  {
   "cell_type": "markdown",
   "id": "fabulous-passing",
   "metadata": {},
   "source": [
    "## Step 3: Drop the missing CFs\n",
    "\n",
    "These are for flows not present in the \"clean\" version of ecoinvent, and so won't matter for our results."
   ]
  },
  {
   "cell_type": "code",
   "execution_count": 32,
   "id": "western-graph",
   "metadata": {},
   "outputs": [
    {
     "name": "stdout",
     "output_type": "stream",
     "text": [
      "Applying strategy: drop_unlinked_cfs\n",
      "Applied 1 strategies in 0.00 seconds\n"
     ]
    }
   ],
   "source": [
    "ei.drop_unlinked(True)"
   ]
  },
  {
   "cell_type": "code",
   "execution_count": 33,
   "id": "sitting-double",
   "metadata": {},
   "outputs": [
    {
     "name": "stdout",
     "output_type": "stream",
     "text": [
      "1 methods\n",
      "366 cfs\n",
      "0 unlinked cfs\n"
     ]
    },
    {
     "data": {
      "text/plain": [
       "(1, 366, 0)"
      ]
     },
     "execution_count": 33,
     "metadata": {},
     "output_type": "execute_result"
    }
   ],
   "source": [
    "ei.statistics()"
   ]
  },
  {
   "cell_type": "markdown",
   "id": "bottom-coupon",
   "metadata": {},
   "source": [
    "## Step 4: Check to make sure we don't have duplicates\n",
    "\n",
    "Due to the way the [scipy sparse](https://docs.scipy.org/doc/scipy/reference/sparse.html) matrix constructors work, duplicate CFs would be summed during the construction of the characterization matrix. This would be bad :)"
   ]
  },
  {
   "cell_type": "code",
   "execution_count": 34,
   "id": "adequate-being",
   "metadata": {},
   "outputs": [
    {
     "data": {
      "text/plain": [
       "(366, 216)"
      ]
     },
     "execution_count": 34,
     "metadata": {},
     "output_type": "execute_result"
    }
   ],
   "source": [
    "len(ei.data[0]['exchanges']), len({tuple(o['input']) for o in ei.data[0]['exchanges']})"
   ]
  },
  {
   "cell_type": "markdown",
   "id": "brief-vanilla",
   "metadata": {},
   "source": [
    "C'est pas bon... but at least easy to fix."
   ]
  },
  {
   "cell_type": "code",
   "execution_count": 52,
   "id": "sunset-contractor",
   "metadata": {},
   "outputs": [],
   "source": [
    "unique_exchanges = {tuple(o['input']): o for o in ei.data[0]['exchanges']}\n",
    "ei.data[0]['exchanges'] = list(unique_exchanges.values())"
   ]
  },
  {
   "cell_type": "code",
   "execution_count": 53,
   "id": "adapted-orange",
   "metadata": {},
   "outputs": [
    {
     "name": "stdout",
     "output_type": "stream",
     "text": [
      "Wrote 1 LCIA methods with 216 characterization factors\n"
     ]
    }
   ],
   "source": [
    "ei.write_methods(overwrite=True)"
   ]
  },
  {
   "cell_type": "markdown",
   "id": "general-rehabilitation",
   "metadata": {},
   "source": [
    "# Check against reference values"
   ]
  },
  {
   "cell_type": "code",
   "execution_count": 54,
   "id": "increasing-electron",
   "metadata": {},
   "outputs": [
    {
     "data": {
      "text/plain": [
       "'market for steel, low-alloyed' (kilogram, GLO, None)"
      ]
     },
     "execution_count": 54,
     "metadata": {},
     "output_type": "execute_result"
    }
   ],
   "source": [
    "steel = next(x for x in bd.Database(\"ecoinvent 3.6\") if x['name'] == 'market for steel, low-alloyed')\n",
    "steel"
   ]
  },
  {
   "cell_type": "code",
   "execution_count": 59,
   "id": "explicit-writer",
   "metadata": {},
   "outputs": [],
   "source": [
    "REFERENCE = 433.46247"
   ]
  },
  {
   "cell_type": "code",
   "execution_count": 60,
   "id": "numeric-treat",
   "metadata": {},
   "outputs": [
    {
     "name": "stdout",
     "output_type": "stream",
     "text": [
      "0.9999999298305655\n"
     ]
    }
   ],
   "source": [
    "lca = bc.LCA({steel: 1}, (\"Crustal Scarcity Index\", \"1.0\"))\n",
    "lca.lci()\n",
    "lca.lcia()\n",
    "print(lca.score / REFERENCE)"
   ]
  },
  {
   "cell_type": "code",
   "execution_count": 58,
   "id": "appropriate-swiss",
   "metadata": {},
   "outputs": [
    {
     "data": {
      "text/plain": [
       "'market for copper' (kilogram, GLO, None)"
      ]
     },
     "execution_count": 58,
     "metadata": {},
     "output_type": "execute_result"
    }
   ],
   "source": [
    "copper = next(x for x in bd.Database(\"ecoinvent 3.6\") if x['name'] == 'market for copper')\n",
    "copper"
   ]
  },
  {
   "cell_type": "code",
   "execution_count": 62,
   "id": "democratic-tactics",
   "metadata": {},
   "outputs": [],
   "source": [
    "REFERENCE = 23868.3"
   ]
  },
  {
   "cell_type": "code",
   "execution_count": 63,
   "id": "delayed-recognition",
   "metadata": {},
   "outputs": [
    {
     "name": "stdout",
     "output_type": "stream",
     "text": [
      "0.999999266738787\n"
     ]
    }
   ],
   "source": [
    "lca = bc.LCA({copper: 1}, (\"Crustal Scarcity Index\", \"1.0\"))\n",
    "lca.lci()\n",
    "lca.lcia()\n",
    "print(lca.score / REFERENCE)"
   ]
  },
  {
   "cell_type": "code",
   "execution_count": 64,
   "id": "wanted-advocate",
   "metadata": {},
   "outputs": [
    {
     "data": {
      "text/plain": [
       "'market for nickel, 99.5%' (kilogram, GLO, None)"
      ]
     },
     "execution_count": 64,
     "metadata": {},
     "output_type": "execute_result"
    }
   ],
   "source": [
    "nickel = next(x for x in bd.Database(\"ecoinvent 3.6\") if x['name'] == 'market for nickel, 99.5%')\n",
    "nickel"
   ]
  },
  {
   "cell_type": "code",
   "execution_count": 65,
   "id": "equivalent-salmon",
   "metadata": {},
   "outputs": [],
   "source": [
    "REFERENCE = 4.78E+04"
   ]
  },
  {
   "cell_type": "code",
   "execution_count": 66,
   "id": "difficult-flooring",
   "metadata": {},
   "outputs": [
    {
     "name": "stdout",
     "output_type": "stream",
     "text": [
      "1.0002587730554768\n"
     ]
    }
   ],
   "source": [
    "lca = bc.LCA({nickel: 1}, (\"Crustal Scarcity Index\", \"1.0\"))\n",
    "lca.lci()\n",
    "lca.lcia()\n",
    "print(lca.score / REFERENCE)"
   ]
  },
  {
   "cell_type": "markdown",
   "id": "adequate-analyst",
   "metadata": {},
   "source": [
    "Pretty good. The details on the [SimaPro matrix algorithm](https://pre-sustainability.com/files/2014/05/The_Improved_SimaPro_8_Calculation_Engine_Whitepaper_A4.pdf) are not transparent, but I think they do something iterative. We use [pardiso](https://www.pardiso-project.org/), which in my judgment is more reliable, but I don't have actual evidence either way."
   ]
  }
 ],
 "metadata": {
  "kernelspec": {
   "display_name": "Python 3",
   "language": "python",
   "name": "python3"
  },
  "language_info": {
   "codemirror_mode": {
    "name": "ipython",
    "version": 3
   },
   "file_extension": ".py",
   "mimetype": "text/x-python",
   "name": "python",
   "nbconvert_exporter": "python",
   "pygments_lexer": "ipython3",
   "version": "3.9.2"
  }
 },
 "nbformat": 4,
 "nbformat_minor": 5
}
