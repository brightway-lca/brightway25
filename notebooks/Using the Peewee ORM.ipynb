{
 "cells": [
  {
   "cell_type": "markdown",
   "id": "centered-article",
   "metadata": {},
   "source": [
    "# Using the Peewee ORM\n",
    "\n",
    "Brightway uses the [Peewee ORM](http://docs.peewee-orm.com/en/latest/) to interface with the SQLite3 relational database. Peewee, as its name implies, is small and simple.\n",
    "\n",
    "To make Brightway more approachable for users of all experience levels, there are actually three \"layers\" of data when using SQLite. You can see a row in the database table in three ways:\n",
    "\n",
    "1. The raw data, as stored in the SQLite database. This data uses SQL data types, so is not directly usable by Python.\n",
    "2. Peewee objects. The Peewee database schema is [provided here](https://github.com/brightway-lca/brightway2-data/blob/8d2e519f840ded0a700bb0d17df32e9182bb5577/bw2data/backends/schema.py). When Peewee retrieves a database row, it converts data to Python datatypes, and constructs objects based on the table schema. Peewee objects are instances of `ActivityDataset` and `ExchangeDataset`.\n",
    "3. `bw2data` `Activity` and `Exchange` objects. These are separate objects which offer a lot of new functionality. Originally, these objects were separate from `ActivityDataset` and `ExchangeDataset` because they served as the \"base\" proxies for all different kinds of data storage backends, including saving data as JSON files. Each `Activity` is associated with one `ActivityDataset`, and the same with exchanges.\n",
    "\n",
    "Normally Brightway2 users only see the third layer - this notebook is about how to use the second layer. However, I let the Peewee documentation explain the Peewee-specific stuff."
   ]
  },
  {
   "cell_type": "markdown",
   "id": "played-terrace",
   "metadata": {},
   "source": [
    "## `ActivityDataset` and `ExchangeDataset` objects\n",
    "\n",
    "Here are the table schemas which define these objects:\n",
    "\n",
    "```python\n",
    "\n",
    "class ActivityDataset(peewee.Model):\n",
    "    data = PickleField() \n",
    "    code = TextField() \n",
    "    database = TextField() \n",
    "    location = TextField(null=True) \n",
    "    name = TextField(null=True) \n",
    "    product = TextField(null=True) \n",
    "    type = TextField(null=True) \n",
    "\n",
    "\n",
    "class ExchangeDataset(peewee.Model):\n",
    "    data = PickleField() \n",
    "    input_code = TextField() \n",
    "    input_database = TextField() \n",
    "    output_code = TextField() \n",
    "    output_database = TextField() \n",
    "    type = TextField() \n",
    "\n",
    "```\n",
    "\n",
    "The Peewee ORM is explained well in [the documentation](http://docs.peewee-orm.com/en/latest/); here are some examples using this table schema:"
   ]
  },
  {
   "cell_type": "code",
   "execution_count": 2,
   "id": "eastern-compromise",
   "metadata": {},
   "outputs": [],
   "source": [
    "import bw2data as bd\n",
    "from bw2data.backends.peewee.schema import ActivityDataset as AD, ExchangeDataset as ED"
   ]
  },
  {
   "cell_type": "code",
   "execution_count": 10,
   "id": "disturbed-longitude",
   "metadata": {},
   "outputs": [],
   "source": [
    "from peewee import fn"
   ]
  },
  {
   "cell_type": "code",
   "execution_count": 3,
   "id": "deluxe-gospel",
   "metadata": {},
   "outputs": [],
   "source": [
    "bd.projects.set_current(\"ecoinvent 3.7.1 bw2\")"
   ]
  },
  {
   "cell_type": "code",
   "execution_count": 24,
   "id": "seeing-guard",
   "metadata": {},
   "outputs": [
    {
     "data": {
      "text/plain": [
       "('Metolachlor', 'biosphere3', 'emission')"
      ]
     },
     "execution_count": 24,
     "metadata": {},
     "output_type": "execute_result"
    }
   ],
   "source": [
    "flow = AD.select().where(AD.database == \"biosphere3\").get()\n",
    "flow.name, flow.database, flow.type"
   ]
  },
  {
   "cell_type": "code",
   "execution_count": 13,
   "id": "palestinian-processor",
   "metadata": {},
   "outputs": [
    {
     "name": "stdout",
     "output_type": "stream",
     "text": [
      "biosphere3\n",
      "ecoinvent 3.7.1\n",
      "plastics\n"
     ]
    }
   ],
   "source": [
    "for ds in AD.select(AD.database).distinct():\n",
    "    print(ds.database)"
   ]
  },
  {
   "cell_type": "code",
   "execution_count": 16,
   "id": "thorough-laundry",
   "metadata": {},
   "outputs": [
    {
     "data": {
      "text/plain": [
       "[('biosphere3', 4321), ('ecoinvent 3.7.1', 19128), ('plastics', 2)]"
      ]
     },
     "execution_count": 16,
     "metadata": {},
     "output_type": "execute_result"
    }
   ],
   "source": [
    "list(AD.select(AD.database, fn.Count(AD.id)).group_by(AD.database).tuples())"
   ]
  },
  {
   "cell_type": "markdown",
   "id": "handed-navigator",
   "metadata": {},
   "source": [
    "## Limitations of the current schema\n",
    "\n",
    "There are (at least :) two things which will make people who know about databases unhappy about the current schema. First, we don't have actual foreign keys between `ActivityDataset` and `ExchangeDataset`. Second, we have generic \"data\" columns that can store additional data of multiple types without a fixed schema.\n",
    "\n",
    "Both of these design decisions were made intentionally, for better or worse.\n",
    "\n",
    "The lack of foreign keys allows users to enter relationships in the exchange table which don't yet exist in the activity table. This is in line with the philosophy of Brightway2, which is flexibility for many different use cases. Probably the next generation of Brightway will enforce a foreign key between these tables, however.\n",
    "\n",
    "Here is how you need to construct table joins with the current schema:"
   ]
  },
  {
   "cell_type": "code",
   "execution_count": 45,
   "id": "consecutive-trail",
   "metadata": {},
   "outputs": [],
   "source": [
    "query = ED.select(ED.data, AD.name).join(AD, on=(AD.database == ED.input_database) & (AD.code == ED.input_code)).dicts()"
   ]
  },
  {
   "cell_type": "code",
   "execution_count": 48,
   "id": "complete-protest",
   "metadata": {},
   "outputs": [
    {
     "data": {
      "text/plain": [
       "{'data': {'flow': '2e0e7474-61d8-4324-93aa-5df18338c53e',\n",
       "  'type': 'production',\n",
       "  'name': 'bitumen seal, V60',\n",
       "  'classifications': {'CPC': ['37940: Bituminous mixtures based on natural and artificial stone materials and bitumen, natural asphalt or related su[…]']},\n",
       "  'production volume': 0.0177714285714286,\n",
       "  'activity': '52500424-232c-418b-a15f-0a3dcaad131c',\n",
       "  'unit': 'kilogram',\n",
       "  'comment': 'EcoSpold01Location=RER',\n",
       "  'amount': 1.0,\n",
       "  'uncertainty type': 0,\n",
       "  'loc': 1.0,\n",
       "  'input': ('ecoinvent 3.7.1', '83fa8390569d327448e271679b768b9a'),\n",
       "  'output': ('ecoinvent 3.7.1', '83fa8390569d327448e271679b768b9a')},\n",
       " 'name': 'bitumen seal production, V60'}"
      ]
     },
     "execution_count": 48,
     "metadata": {},
     "output_type": "execute_result"
    }
   ],
   "source": [
    "query.get()"
   ]
  },
  {
   "cell_type": "markdown",
   "id": "confused-harbor",
   "metadata": {},
   "source": [
    "Top five most used products in ecoinvent 3.7.1:"
   ]
  },
  {
   "cell_type": "code",
   "execution_count": 50,
   "id": "identified-weight",
   "metadata": {},
   "outputs": [],
   "source": [
    "query = (ED\n",
    "         .select(AD.product, fn.COUNT(ED.id).alias('count'))\n",
    "         .join(AD, on=(AD.database == ED.input_database) & (AD.code == ED.input_code))\n",
    "         .where(ED.input_database == 'ecoinvent 3.7.1')\n",
    "         .group_by(ED.input_code)\n",
    "         .order_by(fn.COUNT(ED.id).desc())\n",
    "         .limit(10)\n",
    "        )"
   ]
  },
  {
   "cell_type": "code",
   "execution_count": 55,
   "id": "negative-superintendent",
   "metadata": {},
   "outputs": [
    {
     "name": "stdout",
     "output_type": "stream",
     "text": [
      "sodium hydroxide, without water, in 50% solution state 1371\n",
      "electricity, medium voltage 1320\n",
      "electricity, medium voltage 1292\n",
      "electricity, medium voltage 1243\n",
      "transport, freight, lorry, unspecified 1230\n",
      "electricity, medium voltage 1206\n",
      "chemical, organic 1196\n",
      "lubricating oil 1195\n",
      "electricity, medium voltage 1188\n",
      "diesel, burned in building machine 1184\n"
     ]
    }
   ],
   "source": [
    "for row in query:\n",
    "    print(row.activitydataset.product, row.count)"
   ]
  },
  {
   "cell_type": "markdown",
   "id": "lonely-investor",
   "metadata": {},
   "source": [
    "The use of a `data` column allows for the storage of arbitrary data without having to help uses of many experience levels write schema migrations. As this data is stored serialized with `pickle`, it can't be queried from SQL; this is a serious downside. A realistic alternative would be JSON columns; however, users may want to insert data which is not directly JSON-compatible.\n",
    "\n",
    "Here is how you use data stored in the `data` column. It is normally just a dictionary, though it doesn't have to be:"
   ]
  },
  {
   "cell_type": "code",
   "execution_count": 25,
   "id": "better-andrew",
   "metadata": {},
   "outputs": [],
   "source": [
    "activity = AD.select().where(AD.database == \"ecoinvent 3.7.1\").get()"
   ]
  },
  {
   "cell_type": "code",
   "execution_count": 26,
   "id": "latin-nursery",
   "metadata": {},
   "outputs": [
    {
     "data": {
      "text/plain": [
       "dict"
      ]
     },
     "execution_count": 26,
     "metadata": {},
     "output_type": "execute_result"
    }
   ],
   "source": [
    "type(activity.data)"
   ]
  },
  {
   "cell_type": "code",
   "execution_count": 27,
   "id": "descending-stupid",
   "metadata": {},
   "outputs": [
    {
     "data": {
      "text/plain": [
       "{'comment': 'manual dismantling in various fractions based on common transfer coefficients for this type of treatment. Data from own experiences in Switzerland.\\n[This dataset was already contained in the ecoinvent database version 2. It was not individually updated during the transfer to ecoinvent version 3. Life Cycle Impact Assessment results may still have changed, as they are affected by changes in the supply chain, i.e. in other datasets. This dataset was generated following the ecoinvent quality guidelines for version 2. It may have been subject to central changes described in the ecoinvent version 3 change report (http://www.ecoinvent.org/database/ecoinvent-version-3/reports-of-changes/), and the results of the central updates were reviewed extensively. The changes added e.g. consistent water flows and other information throughout the database. The documentation of this dataset can be found in the ecoinvent reports of version 2, which are still available via the ecoinvent website. The change report linked above covers all central changes that were made during the conversion process.]\\nGeography:  data of situation in Switzerland\\nTechnology:  current manual dismantling activities in Switzerland.',\n",
       " 'classifications': [('EcoSpold01Categories', 'waste management/recycling'),\n",
       "  ('ISIC rev.4 ecoinvent', '3830:Materials recovery'),\n",
       "  ('CPC', '39990: Other wastes n.e.c.')],\n",
       " 'activity type': 'ordinary transforming activity',\n",
       " 'activity': '3b5baf97-64f9-433e-82ce-233e267e7c84',\n",
       " 'database': 'ecoinvent 3.7.1',\n",
       " 'filename': '3b5baf97-64f9-433e-82ce-233e267e7c84_92dcaaae-2a45-4666-b008-d688e1b21655.spold',\n",
       " 'location': 'CH',\n",
       " 'name': 'treatment of used desktop computer, manual dismantling',\n",
       " 'parameters': [],\n",
       " 'authors': {'data entry': {'name': 'Roland Hischier',\n",
       "   'email': 'roland.hischier@empa.ch'},\n",
       "  'data generator': {'name': 'Roland Hischier',\n",
       "   'email': 'roland.hischier@empa.ch'}},\n",
       " 'type': 'process',\n",
       " 'reference product': 'used desktop computer',\n",
       " 'flow': '92dcaaae-2a45-4666-b008-d688e1b21655',\n",
       " 'unit': 'kilogram',\n",
       " 'production amount': -1.0,\n",
       " 'code': '0004a3ecbffcbf48a81756158ed713ed'}"
      ]
     },
     "execution_count": 27,
     "metadata": {},
     "output_type": "execute_result"
    }
   ],
   "source": [
    "activity.data"
   ]
  },
  {
   "cell_type": "markdown",
   "id": "legislative-characteristic",
   "metadata": {},
   "source": [
    "Modify as any other Python object."
   ]
  },
  {
   "cell_type": "code",
   "execution_count": 28,
   "id": "under-sacramento",
   "metadata": {},
   "outputs": [],
   "source": [
    "activity.data['foo'] = 'bar'"
   ]
  },
  {
   "cell_type": "markdown",
   "id": "general-leave",
   "metadata": {},
   "source": [
    "Note that you need to call `.save()` to flush modifications to the database."
   ]
  }
 ],
 "metadata": {
  "kernelspec": {
   "display_name": "Python 3",
   "language": "python",
   "name": "python3"
  },
  "language_info": {
   "codemirror_mode": {
    "name": "ipython",
    "version": 3
   },
   "file_extension": ".py",
   "mimetype": "text/x-python",
   "name": "python",
   "nbconvert_exporter": "python",
   "pygments_lexer": "ipython3",
   "version": "3.9.2"
  }
 },
 "nbformat": 4,
 "nbformat_minor": 5
}
